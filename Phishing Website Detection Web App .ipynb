{
 "cells": [
  {
   "cell_type": "markdown",
   "metadata": {
    "id": "391e39f1",
    "papermill": {
     "duration": 0.023031,
     "end_time": "2022-07-12T18:20:27.203403",
     "exception": false,
     "start_time": "2022-07-12T18:20:27.180372",
     "status": "completed"
    },
    "tags": []
   },
   "source": [
    "<h1> Phishing Website Detection Web App </h1>"
   ]
  },
  {
   "cell_type": "code",
   "execution_count": 1,
   "metadata": {
    "execution": {
     "iopub.execute_input": "2022-07-12T18:20:27.319598Z",
     "iopub.status.busy": "2022-07-12T18:20:27.318695Z",
     "iopub.status.idle": "2022-07-12T18:20:28.242231Z",
     "shell.execute_reply": "2022-07-12T18:20:28.241280Z"
    },
    "id": "423a6c46",
    "papermill": {
     "duration": 0.946889,
     "end_time": "2022-07-12T18:20:28.244697",
     "exception": false,
     "start_time": "2022-07-12T18:20:27.297808",
     "status": "completed"
    },
    "tags": []
   },
   "outputs": [],
   "source": [
    "# importing necessary libraries\n",
    "import pandas as pd\n",
    "import matplotlib.pyplot as plt\n",
    "import seaborn as sns\n",
    "import numpy as np\n",
    "%matplotlib inline \n",
    "\n",
    "import warnings\n",
    "warnings.filterwarnings(\"ignore\")"
   ]
  },
  {
   "cell_type": "markdown",
   "metadata": {
    "id": "67fb8ace",
    "papermill": {
     "duration": 0.029172,
     "end_time": "2022-07-12T18:20:28.293109",
     "exception": false,
     "start_time": "2022-07-12T18:20:28.263937",
     "status": "completed"
    },
    "tags": []
   },
   "source": [
    "### Importing dataset and dataset analysis"
   ]
  },
  {
   "cell_type": "code",
   "execution_count": 2,
   "metadata": {
    "execution": {
     "iopub.execute_input": "2022-07-12T18:20:28.353211Z",
     "iopub.status.busy": "2022-07-12T18:20:28.352744Z",
     "iopub.status.idle": "2022-07-12T18:20:28.416259Z",
     "shell.execute_reply": "2022-07-12T18:20:28.415285Z"
    },
    "id": "49b51c8b",
    "papermill": {
     "duration": 0.095603,
     "end_time": "2022-07-12T18:20:28.418674",
     "exception": false,
     "start_time": "2022-07-12T18:20:28.323071",
     "status": "completed"
    },
    "tags": []
   },
   "outputs": [],
   "source": [
    "df = pd.read_csv(\"dataset.csv\")"
   ]
  },
  {
   "cell_type": "code",
   "execution_count": 3,
   "metadata": {
    "colab": {
     "base_uri": "https://localhost:8080/",
     "height": 300
    },
    "execution": {
     "iopub.execute_input": "2022-07-12T18:20:28.458898Z",
     "iopub.status.busy": "2022-07-12T18:20:28.458555Z",
     "iopub.status.idle": "2022-07-12T18:20:28.483444Z",
     "shell.execute_reply": "2022-07-12T18:20:28.482515Z"
    },
    "id": "01016f4d",
    "outputId": "d8ed5bec-2c45-4be7-a481-e246ec524543",
    "papermill": {
     "duration": 0.046983,
     "end_time": "2022-07-12T18:20:28.485513",
     "exception": false,
     "start_time": "2022-07-12T18:20:28.438530",
     "status": "completed"
    },
    "tags": []
   },
   "outputs": [
    {
     "data": {
      "text/html": [
       "<div>\n",
       "<style scoped>\n",
       "    .dataframe tbody tr th:only-of-type {\n",
       "        vertical-align: middle;\n",
       "    }\n",
       "\n",
       "    .dataframe tbody tr th {\n",
       "        vertical-align: top;\n",
       "    }\n",
       "\n",
       "    .dataframe thead th {\n",
       "        text-align: right;\n",
       "    }\n",
       "</style>\n",
       "<table border=\"1\" class=\"dataframe\">\n",
       "  <thead>\n",
       "    <tr style=\"text-align: right;\">\n",
       "      <th></th>\n",
       "      <th>having_IP_Address</th>\n",
       "      <th>URL_Length</th>\n",
       "      <th>Shortining_Service</th>\n",
       "      <th>having_At_Symbol</th>\n",
       "      <th>double_slash_redirecting</th>\n",
       "      <th>Prefix_Suffix</th>\n",
       "      <th>having_Sub_Domain</th>\n",
       "      <th>SSLfinal_State</th>\n",
       "      <th>Domain_registeration_length</th>\n",
       "      <th>Favicon</th>\n",
       "      <th>...</th>\n",
       "      <th>popUpWidnow</th>\n",
       "      <th>Iframe</th>\n",
       "      <th>age_of_domain</th>\n",
       "      <th>DNSRecord</th>\n",
       "      <th>web_traffic</th>\n",
       "      <th>Page_Rank</th>\n",
       "      <th>Google_Index</th>\n",
       "      <th>Links_pointing_to_page</th>\n",
       "      <th>Statistical_report</th>\n",
       "      <th>Result</th>\n",
       "    </tr>\n",
       "  </thead>\n",
       "  <tbody>\n",
       "    <tr>\n",
       "      <th>0</th>\n",
       "      <td>-1</td>\n",
       "      <td>1</td>\n",
       "      <td>1</td>\n",
       "      <td>1</td>\n",
       "      <td>-1</td>\n",
       "      <td>-1</td>\n",
       "      <td>-1</td>\n",
       "      <td>-1</td>\n",
       "      <td>-1</td>\n",
       "      <td>1</td>\n",
       "      <td>...</td>\n",
       "      <td>1</td>\n",
       "      <td>1</td>\n",
       "      <td>-1</td>\n",
       "      <td>-1</td>\n",
       "      <td>-1</td>\n",
       "      <td>-1</td>\n",
       "      <td>1</td>\n",
       "      <td>1</td>\n",
       "      <td>-1</td>\n",
       "      <td>-1</td>\n",
       "    </tr>\n",
       "    <tr>\n",
       "      <th>1</th>\n",
       "      <td>1</td>\n",
       "      <td>1</td>\n",
       "      <td>1</td>\n",
       "      <td>1</td>\n",
       "      <td>1</td>\n",
       "      <td>-1</td>\n",
       "      <td>0</td>\n",
       "      <td>1</td>\n",
       "      <td>-1</td>\n",
       "      <td>1</td>\n",
       "      <td>...</td>\n",
       "      <td>1</td>\n",
       "      <td>1</td>\n",
       "      <td>-1</td>\n",
       "      <td>-1</td>\n",
       "      <td>0</td>\n",
       "      <td>-1</td>\n",
       "      <td>1</td>\n",
       "      <td>1</td>\n",
       "      <td>1</td>\n",
       "      <td>-1</td>\n",
       "    </tr>\n",
       "    <tr>\n",
       "      <th>2</th>\n",
       "      <td>1</td>\n",
       "      <td>0</td>\n",
       "      <td>1</td>\n",
       "      <td>1</td>\n",
       "      <td>1</td>\n",
       "      <td>-1</td>\n",
       "      <td>-1</td>\n",
       "      <td>-1</td>\n",
       "      <td>-1</td>\n",
       "      <td>1</td>\n",
       "      <td>...</td>\n",
       "      <td>1</td>\n",
       "      <td>1</td>\n",
       "      <td>1</td>\n",
       "      <td>-1</td>\n",
       "      <td>1</td>\n",
       "      <td>-1</td>\n",
       "      <td>1</td>\n",
       "      <td>0</td>\n",
       "      <td>-1</td>\n",
       "      <td>-1</td>\n",
       "    </tr>\n",
       "    <tr>\n",
       "      <th>3</th>\n",
       "      <td>1</td>\n",
       "      <td>0</td>\n",
       "      <td>1</td>\n",
       "      <td>1</td>\n",
       "      <td>1</td>\n",
       "      <td>-1</td>\n",
       "      <td>-1</td>\n",
       "      <td>-1</td>\n",
       "      <td>1</td>\n",
       "      <td>1</td>\n",
       "      <td>...</td>\n",
       "      <td>1</td>\n",
       "      <td>1</td>\n",
       "      <td>-1</td>\n",
       "      <td>-1</td>\n",
       "      <td>1</td>\n",
       "      <td>-1</td>\n",
       "      <td>1</td>\n",
       "      <td>-1</td>\n",
       "      <td>1</td>\n",
       "      <td>-1</td>\n",
       "    </tr>\n",
       "    <tr>\n",
       "      <th>4</th>\n",
       "      <td>1</td>\n",
       "      <td>0</td>\n",
       "      <td>-1</td>\n",
       "      <td>1</td>\n",
       "      <td>1</td>\n",
       "      <td>-1</td>\n",
       "      <td>1</td>\n",
       "      <td>1</td>\n",
       "      <td>-1</td>\n",
       "      <td>1</td>\n",
       "      <td>...</td>\n",
       "      <td>-1</td>\n",
       "      <td>1</td>\n",
       "      <td>-1</td>\n",
       "      <td>-1</td>\n",
       "      <td>0</td>\n",
       "      <td>-1</td>\n",
       "      <td>1</td>\n",
       "      <td>1</td>\n",
       "      <td>1</td>\n",
       "      <td>1</td>\n",
       "    </tr>\n",
       "  </tbody>\n",
       "</table>\n",
       "<p>5 rows × 31 columns</p>\n",
       "</div>"
      ],
      "text/plain": [
       "   having_IP_Address  URL_Length  Shortining_Service  having_At_Symbol  \\\n",
       "0                 -1           1                   1                 1   \n",
       "1                  1           1                   1                 1   \n",
       "2                  1           0                   1                 1   \n",
       "3                  1           0                   1                 1   \n",
       "4                  1           0                  -1                 1   \n",
       "\n",
       "   double_slash_redirecting  Prefix_Suffix  having_Sub_Domain  SSLfinal_State  \\\n",
       "0                        -1             -1                 -1              -1   \n",
       "1                         1             -1                  0               1   \n",
       "2                         1             -1                 -1              -1   \n",
       "3                         1             -1                 -1              -1   \n",
       "4                         1             -1                  1               1   \n",
       "\n",
       "   Domain_registeration_length  Favicon  ...  popUpWidnow  Iframe  \\\n",
       "0                           -1        1  ...            1       1   \n",
       "1                           -1        1  ...            1       1   \n",
       "2                           -1        1  ...            1       1   \n",
       "3                            1        1  ...            1       1   \n",
       "4                           -1        1  ...           -1       1   \n",
       "\n",
       "   age_of_domain  DNSRecord  web_traffic  Page_Rank  Google_Index  \\\n",
       "0             -1         -1           -1         -1             1   \n",
       "1             -1         -1            0         -1             1   \n",
       "2              1         -1            1         -1             1   \n",
       "3             -1         -1            1         -1             1   \n",
       "4             -1         -1            0         -1             1   \n",
       "\n",
       "   Links_pointing_to_page  Statistical_report  Result  \n",
       "0                       1                  -1      -1  \n",
       "1                       1                   1      -1  \n",
       "2                       0                  -1      -1  \n",
       "3                      -1                   1      -1  \n",
       "4                       1                   1       1  \n",
       "\n",
       "[5 rows x 31 columns]"
      ]
     },
     "execution_count": 3,
     "metadata": {},
     "output_type": "execute_result"
    }
   ],
   "source": [
    "df.head()\n",
    "# result is the target attribute"
   ]
  },
  {
   "cell_type": "code",
   "execution_count": 4,
   "metadata": {
    "colab": {
     "base_uri": "https://localhost:8080/"
    },
    "execution": {
     "iopub.execute_input": "2022-07-12T18:20:28.526648Z",
     "iopub.status.busy": "2022-07-12T18:20:28.526326Z",
     "iopub.status.idle": "2022-07-12T18:20:28.532711Z",
     "shell.execute_reply": "2022-07-12T18:20:28.531785Z"
    },
    "id": "3ec25e7d",
    "outputId": "0614602b-947a-4025-bc79-b885d1c79f36",
    "papermill": {
     "duration": 0.029231,
     "end_time": "2022-07-12T18:20:28.534736",
     "exception": false,
     "start_time": "2022-07-12T18:20:28.505505",
     "status": "completed"
    },
    "tags": []
   },
   "outputs": [
    {
     "data": {
      "text/plain": [
       "(11055, 31)"
      ]
     },
     "execution_count": 4,
     "metadata": {},
     "output_type": "execute_result"
    }
   ],
   "source": [
    "df.shape"
   ]
  },
  {
   "cell_type": "code",
   "execution_count": 5,
   "metadata": {
    "colab": {
     "base_uri": "https://localhost:8080/"
    },
    "id": "wShmFK60yCp1",
    "outputId": "fbf80c35-1857-4fb8-83eb-9b31dda3c7a3"
   },
   "outputs": [
    {
     "data": {
      "text/plain": [
       "Index(['having_IP_Address', 'URL_Length', 'Shortining_Service',\n",
       "       'having_At_Symbol', 'double_slash_redirecting', 'Prefix_Suffix',\n",
       "       'having_Sub_Domain', 'SSLfinal_State', 'Domain_registeration_length',\n",
       "       'Favicon', 'port', 'HTTPS_token', 'Request_URL', 'URL_of_Anchor',\n",
       "       'Links_in_tags', 'SFH', 'Submitting_to_email', 'Abnormal_URL',\n",
       "       'Redirect', 'on_mouseover', 'RightClick', 'popUpWidnow', 'Iframe',\n",
       "       'age_of_domain', 'DNSRecord', 'web_traffic', 'Page_Rank',\n",
       "       'Google_Index', 'Links_pointing_to_page', 'Statistical_report',\n",
       "       'Result'],\n",
       "      dtype='object')"
      ]
     },
     "execution_count": 5,
     "metadata": {},
     "output_type": "execute_result"
    }
   ],
   "source": [
    "df.columns"
   ]
  },
  {
   "cell_type": "markdown",
   "metadata": {
    "id": "287c6aec",
    "papermill": {
     "duration": 0.019265,
     "end_time": "2022-07-12T18:20:28.573632",
     "exception": false,
     "start_time": "2022-07-12T18:20:28.554367",
     "status": "completed"
    },
    "tags": []
   },
   "source": [
    "Dataset has 11055 rows and 32 column"
   ]
  },
  {
   "cell_type": "code",
   "execution_count": 6,
   "metadata": {
    "colab": {
     "base_uri": "https://localhost:8080/"
    },
    "execution": {
     "iopub.execute_input": "2022-07-12T18:20:28.613455Z",
     "iopub.status.busy": "2022-07-12T18:20:28.613140Z",
     "iopub.status.idle": "2022-07-12T18:20:28.619381Z",
     "shell.execute_reply": "2022-07-12T18:20:28.618504Z"
    },
    "id": "5135add3",
    "outputId": "eee2316e-0328-4a95-81b3-a4e1cac98182",
    "papermill": {
     "duration": 0.02865,
     "end_time": "2022-07-12T18:20:28.621332",
     "exception": false,
     "start_time": "2022-07-12T18:20:28.592682",
     "status": "completed"
    },
    "tags": []
   },
   "outputs": [
    {
     "data": {
      "text/plain": [
       "Index(['having_IP_Address', 'URL_Length', 'Shortining_Service',\n",
       "       'having_At_Symbol', 'double_slash_redirecting', 'Prefix_Suffix',\n",
       "       'having_Sub_Domain', 'SSLfinal_State', 'Domain_registeration_length',\n",
       "       'Favicon', 'port', 'HTTPS_token', 'Request_URL', 'URL_of_Anchor',\n",
       "       'Links_in_tags', 'SFH', 'Submitting_to_email', 'Abnormal_URL',\n",
       "       'Redirect', 'on_mouseover', 'RightClick', 'popUpWidnow', 'Iframe',\n",
       "       'age_of_domain', 'DNSRecord', 'web_traffic', 'Page_Rank',\n",
       "       'Google_Index', 'Links_pointing_to_page', 'Statistical_report',\n",
       "       'Result'],\n",
       "      dtype='object')"
      ]
     },
     "execution_count": 6,
     "metadata": {},
     "output_type": "execute_result"
    }
   ],
   "source": [
    "df.columns"
   ]
  },
  {
   "cell_type": "code",
   "execution_count": 7,
   "metadata": {
    "colab": {
     "base_uri": "https://localhost:8080/"
    },
    "execution": {
     "iopub.execute_input": "2022-07-12T18:20:28.684394Z",
     "iopub.status.busy": "2022-07-12T18:20:28.683979Z",
     "iopub.status.idle": "2022-07-12T18:20:28.710944Z",
     "shell.execute_reply": "2022-07-12T18:20:28.709852Z"
    },
    "id": "a1d68e47",
    "outputId": "ee713752-7561-4121-db7e-16af50ecc560",
    "papermill": {
     "duration": 0.077542,
     "end_time": "2022-07-12T18:20:28.719478",
     "exception": false,
     "start_time": "2022-07-12T18:20:28.641936",
     "status": "completed"
    },
    "tags": []
   },
   "outputs": [
    {
     "name": "stdout",
     "output_type": "stream",
     "text": [
      "<class 'pandas.core.frame.DataFrame'>\n",
      "RangeIndex: 11055 entries, 0 to 11054\n",
      "Data columns (total 31 columns):\n",
      " #   Column                       Non-Null Count  Dtype\n",
      "---  ------                       --------------  -----\n",
      " 0   having_IP_Address            11055 non-null  int64\n",
      " 1   URL_Length                   11055 non-null  int64\n",
      " 2   Shortining_Service           11055 non-null  int64\n",
      " 3   having_At_Symbol             11055 non-null  int64\n",
      " 4   double_slash_redirecting     11055 non-null  int64\n",
      " 5   Prefix_Suffix                11055 non-null  int64\n",
      " 6   having_Sub_Domain            11055 non-null  int64\n",
      " 7   SSLfinal_State               11055 non-null  int64\n",
      " 8   Domain_registeration_length  11055 non-null  int64\n",
      " 9   Favicon                      11055 non-null  int64\n",
      " 10  port                         11055 non-null  int64\n",
      " 11  HTTPS_token                  11055 non-null  int64\n",
      " 12  Request_URL                  11055 non-null  int64\n",
      " 13  URL_of_Anchor                11055 non-null  int64\n",
      " 14  Links_in_tags                11055 non-null  int64\n",
      " 15  SFH                          11055 non-null  int64\n",
      " 16  Submitting_to_email          11055 non-null  int64\n",
      " 17  Abnormal_URL                 11055 non-null  int64\n",
      " 18  Redirect                     11055 non-null  int64\n",
      " 19  on_mouseover                 11055 non-null  int64\n",
      " 20  RightClick                   11055 non-null  int64\n",
      " 21  popUpWidnow                  11055 non-null  int64\n",
      " 22  Iframe                       11055 non-null  int64\n",
      " 23  age_of_domain                11055 non-null  int64\n",
      " 24  DNSRecord                    11055 non-null  int64\n",
      " 25  web_traffic                  11055 non-null  int64\n",
      " 26  Page_Rank                    11055 non-null  int64\n",
      " 27  Google_Index                 11055 non-null  int64\n",
      " 28  Links_pointing_to_page       11055 non-null  int64\n",
      " 29  Statistical_report           11055 non-null  int64\n",
      " 30  Result                       11055 non-null  int64\n",
      "dtypes: int64(31)\n",
      "memory usage: 2.6 MB\n"
     ]
    }
   ],
   "source": [
    "df.info()"
   ]
  },
  {
   "cell_type": "markdown",
   "metadata": {
    "id": "5fe12a78",
    "papermill": {
     "duration": 0.019414,
     "end_time": "2022-07-12T18:20:28.763813",
     "exception": false,
     "start_time": "2022-07-12T18:20:28.744399",
     "status": "completed"
    },
    "tags": []
   },
   "source": [
    "### checking for null values"
   ]
  },
  {
   "cell_type": "code",
   "execution_count": 8,
   "metadata": {
    "colab": {
     "base_uri": "https://localhost:8080/"
    },
    "execution": {
     "iopub.execute_input": "2022-07-12T18:20:28.805104Z",
     "iopub.status.busy": "2022-07-12T18:20:28.804752Z",
     "iopub.status.idle": "2022-07-12T18:20:28.814379Z",
     "shell.execute_reply": "2022-07-12T18:20:28.813106Z"
    },
    "id": "e7c5b4dd",
    "outputId": "49244860-3103-46b1-c765-27e7b536e4ae",
    "papermill": {
     "duration": 0.032634,
     "end_time": "2022-07-12T18:20:28.816773",
     "exception": false,
     "start_time": "2022-07-12T18:20:28.784139",
     "status": "completed"
    },
    "tags": []
   },
   "outputs": [
    {
     "data": {
      "text/plain": [
       "having_IP_Address              0\n",
       "URL_Length                     0\n",
       "Shortining_Service             0\n",
       "having_At_Symbol               0\n",
       "double_slash_redirecting       0\n",
       "Prefix_Suffix                  0\n",
       "having_Sub_Domain              0\n",
       "SSLfinal_State                 0\n",
       "Domain_registeration_length    0\n",
       "Favicon                        0\n",
       "port                           0\n",
       "HTTPS_token                    0\n",
       "Request_URL                    0\n",
       "URL_of_Anchor                  0\n",
       "Links_in_tags                  0\n",
       "SFH                            0\n",
       "Submitting_to_email            0\n",
       "Abnormal_URL                   0\n",
       "Redirect                       0\n",
       "on_mouseover                   0\n",
       "RightClick                     0\n",
       "popUpWidnow                    0\n",
       "Iframe                         0\n",
       "age_of_domain                  0\n",
       "DNSRecord                      0\n",
       "web_traffic                    0\n",
       "Page_Rank                      0\n",
       "Google_Index                   0\n",
       "Links_pointing_to_page         0\n",
       "Statistical_report             0\n",
       "Result                         0\n",
       "dtype: int64"
      ]
     },
     "execution_count": 8,
     "metadata": {},
     "output_type": "execute_result"
    }
   ],
   "source": [
    "# no null values\n",
    "df.isnull().sum()"
   ]
  },
  {
   "cell_type": "markdown",
   "metadata": {
    "id": "a93280d8",
    "papermill": {
     "duration": 0.019326,
     "end_time": "2022-07-12T18:20:28.855699",
     "exception": false,
     "start_time": "2022-07-12T18:20:28.836373",
     "status": "completed"
    },
    "tags": []
   },
   "source": [
    "### checking if target class is equally balanced "
   ]
  },
  {
   "cell_type": "code",
   "execution_count": 9,
   "metadata": {
    "colab": {
     "base_uri": "https://localhost:8080/",
     "height": 296
    },
    "execution": {
     "iopub.execute_input": "2022-07-12T18:20:28.897805Z",
     "iopub.status.busy": "2022-07-12T18:20:28.896778Z",
     "iopub.status.idle": "2022-07-12T18:20:29.074420Z",
     "shell.execute_reply": "2022-07-12T18:20:29.073410Z"
    },
    "id": "5a3b4bf0",
    "outputId": "7ced575d-f9f8-472e-e2a8-79d516b783ae",
    "papermill": {
     "duration": 0.201149,
     "end_time": "2022-07-12T18:20:29.076611",
     "exception": false,
     "start_time": "2022-07-12T18:20:28.875462",
     "status": "completed"
    },
    "tags": []
   },
   "outputs": [
    {
     "data": {
      "text/plain": [
       "<AxesSubplot:xlabel='Result', ylabel='count'>"
      ]
     },
     "execution_count": 9,
     "metadata": {},
     "output_type": "execute_result"
    },
    {
     "data": {
      "image/png": "[encoded data removed]",
      "text/plain": [
       "<Figure size 432x288 with 1 Axes>"
      ]
     },
     "metadata": {
      "needs_background": "light"
     },
     "output_type": "display_data"
    }
   ],
   "source": [
    "# plt.figure(figsize=(7,6))\n",
    "# count numbers of class records for 'Result' target attribute\n",
    "sns.countplot('Result', data = df)"
   ]
  },
  {
   "cell_type": "code",
   "execution_count": 10,
   "metadata": {
    "colab": {
     "base_uri": "https://localhost:8080/"
    },
    "execution": {
     "iopub.execute_input": "2022-07-12T18:20:29.119314Z",
     "iopub.status.busy": "2022-07-12T18:20:29.118474Z",
     "iopub.status.idle": "2022-07-12T18:20:29.126300Z",
     "shell.execute_reply": "2022-07-12T18:20:29.125393Z"
    },
    "id": "c38e0d4e",
    "outputId": "e1d72783-ccc6-4717-cd4f-d5a7cdeafc4e",
    "papermill": {
     "duration": 0.031279,
     "end_time": "2022-07-12T18:20:29.128217",
     "exception": false,
     "start_time": "2022-07-12T18:20:29.096938",
     "status": "completed"
    },
    "tags": []
   },
   "outputs": [
    {
     "data": {
      "text/plain": [
       " 1    6157\n",
       "-1    4898\n",
       "Name: Result, dtype: int64"
      ]
     },
     "execution_count": 10,
     "metadata": {},
     "output_type": "execute_result"
    }
   ],
   "source": [
    "df['Result'].value_counts()"
   ]
  },
  {
   "cell_type": "markdown",
   "metadata": {
    "id": "694fb963",
    "papermill": {
     "duration": 0.020006,
     "end_time": "2022-07-12T18:20:29.169059",
     "exception": false,
     "start_time": "2022-07-12T18:20:29.149053",
     "status": "completed"
    },
    "tags": []
   },
   "source": [
    "we can see the target class count is almost equally balanced. Hence Data augmentation is necessary"
   ]
  },
  {
   "cell_type": "markdown",
   "metadata": {
    "id": "e3f0644e",
    "papermill": {
     "duration": 0.019724,
     "end_time": "2022-07-12T18:20:29.209768",
     "exception": false,
     "start_time": "2022-07-12T18:20:29.190044",
     "status": "completed"
    },
    "tags": []
   },
   "source": [
    "### Identifying multicollinear columns"
   ]
  },
  {
   "cell_type": "code",
   "execution_count": 11,
   "metadata": {
    "colab": {
     "base_uri": "https://localhost:8080/",
     "height": 1000
    },
    "execution": {
     "iopub.execute_input": "2022-07-12T18:20:29.251521Z",
     "iopub.status.busy": "2022-07-12T18:20:29.251166Z",
     "iopub.status.idle": "2022-07-12T18:20:33.202280Z",
     "shell.execute_reply": "2022-07-12T18:20:33.201364Z"
    },
    "id": "bfc6231e",
    "outputId": "6ddc1ea8-663c-4a18-e9fe-dfc905c992b1",
    "papermill": {
     "duration": 3.980774,
     "end_time": "2022-07-12T18:20:33.210641",
     "exception": false,
     "start_time": "2022-07-12T18:20:29.229867",
     "status": "completed"
    },
    "tags": []
   },
   "outputs": [
    {
     "data": {
      "image/png": "[encoded data removed]",
      "text/plain": [
       "<Figure size 1440x1080 with 2 Axes>"
      ]
     },
     "metadata": {
      "needs_background": "light"
     },
     "output_type": "display_data"
    }
   ],
   "source": [
    "# creating correlation matrix on the features \n",
    "corrmat = df.corr()\n",
    "top_corr_features = corrmat.index\n",
    "top_corr_features\n",
    "plt.figure(figsize=(20, 15))\n",
    "# # representation of correalation matrix through heatmap\n",
    "g = sns.heatmap(df[top_corr_features].corr(), annot = True, cmap = \"RdYlGn\")"
   ]
  },
  {
   "cell_type": "code",
   "execution_count": 12,
   "metadata": {
    "execution": {
     "iopub.execute_input": "2022-07-12T18:20:33.268851Z",
     "iopub.status.busy": "2022-07-12T18:20:33.268514Z",
     "iopub.status.idle": "2022-07-12T18:20:33.275415Z",
     "shell.execute_reply": "2022-07-12T18:20:33.274514Z"
    },
    "id": "cfe13d07",
    "papermill": {
     "duration": 0.038378,
     "end_time": "2022-07-12T18:20:33.277472",
     "exception": false,
     "start_time": "2022-07-12T18:20:33.239094",
     "status": "completed"
    },
    "tags": []
   },
   "outputs": [],
   "source": [
    "col_corr = set() # Set of all the names of deleted columns\n",
    "def correlation(dataset, threshold):\n",
    "  corr_matrix = dataset.corr()\n",
    "  for i in range(len(corr_matrix.columns)):\n",
    "      for j in range(i):\n",
    "          if (abs(corr_matrix.iloc[i, j]) >= threshold) and (corr_matrix.columns[j] not in col_corr):\n",
    "              colname = corr_matrix.columns[i] # getting the name of column\n",
    "              col_corr.add(colname)"
   ]
  },
  {
   "cell_type": "code",
   "execution_count": 13,
   "metadata": {
    "colab": {
     "base_uri": "https://localhost:8080/"
    },
    "execution": {
     "iopub.execute_input": "2022-07-12T18:20:33.335244Z",
     "iopub.status.busy": "2022-07-12T18:20:33.334304Z",
     "iopub.status.idle": "2022-07-12T18:20:33.383206Z",
     "shell.execute_reply": "2022-07-12T18:20:33.382239Z"
    },
    "id": "e10bb979",
    "outputId": "6c3a109a-e7b0-461f-e918-e32422299786",
    "papermill": {
     "duration": 0.079692,
     "end_time": "2022-07-12T18:20:33.385365",
     "exception": false,
     "start_time": "2022-07-12T18:20:33.305673",
     "status": "completed"
    },
    "tags": []
   },
   "outputs": [
    {
     "data": {
      "text/plain": [
       "{'popUpWidnow'}"
      ]
     },
     "execution_count": 13,
     "metadata": {},
     "output_type": "execute_result"
    }
   ],
   "source": [
    "# remove multicollinear column with collinearity greater than 0.85\n",
    "correlation(df, 0.85)\n",
    "col_corr"
   ]
  },
  {
   "cell_type": "code",
   "execution_count": 14,
   "metadata": {
    "colab": {
     "base_uri": "https://localhost:8080/"
    },
    "execution": {
     "iopub.execute_input": "2022-07-12T18:20:33.443107Z",
     "iopub.status.busy": "2022-07-12T18:20:33.442772Z",
     "iopub.status.idle": "2022-07-12T18:20:33.476746Z",
     "shell.execute_reply": "2022-07-12T18:20:33.475650Z"
    },
    "id": "98a2d149",
    "outputId": "54d261e0-cf07-48a7-8f9b-f5e0a25972a9",
    "papermill": {
     "duration": 0.066195,
     "end_time": "2022-07-12T18:20:33.479377",
     "exception": false,
     "start_time": "2022-07-12T18:20:33.413182",
     "status": "completed"
    },
    "tags": []
   },
   "outputs": [
    {
     "name": "stdout",
     "output_type": "stream",
     "text": [
      "{'Domain_registeration_length', 'HTTPS_token', 'Shortining_Service', 'Favicon', 'Redirect', 'Abnormal_URL', 'double_slash_redirecting', 'Iframe', 'popUpWidnow'}\n"
     ]
    }
   ],
   "source": [
    "# identifying weakly correlated features with target attribute\n",
    "weak_col_corr = set()\n",
    "def weakcorrelation(dataset, threshold):\n",
    "  corr_matrix = dataset.corr()\n",
    "  idx = 0\n",
    "  for feature in corr_matrix['Result']:\n",
    "    if(feature < threshold):\n",
    "      weak_col_corr.add(corr_matrix.columns[idx])\n",
    "    idx += 1\n",
    "  \n",
    " # dropping features with correlation less than 0.01 \n",
    "weakcorrelation(df, 0.01)\n",
    "print(weak_col_corr)"
   ]
  },
  {
   "cell_type": "code",
   "execution_count": 15,
   "metadata": {
    "colab": {
     "base_uri": "https://localhost:8080/"
    },
    "execution": {
     "iopub.execute_input": "2022-07-12T18:20:33.537002Z",
     "iopub.status.busy": "2022-07-12T18:20:33.536683Z",
     "iopub.status.idle": "2022-07-12T18:20:33.543276Z",
     "shell.execute_reply": "2022-07-12T18:20:33.542313Z"
    },
    "id": "c2bc96c2",
    "outputId": "f387e0af-2979-4342-8325-2af9b97aeeaa",
    "papermill": {
     "duration": 0.037787,
     "end_time": "2022-07-12T18:20:33.545500",
     "exception": false,
     "start_time": "2022-07-12T18:20:33.507713",
     "status": "completed"
    },
    "tags": []
   },
   "outputs": [
    {
     "data": {
      "text/plain": [
       "{'Abnormal_URL',\n",
       " 'Domain_registeration_length',\n",
       " 'Favicon',\n",
       " 'HTTPS_token',\n",
       " 'Iframe',\n",
       " 'Redirect',\n",
       " 'Shortining_Service',\n",
       " 'double_slash_redirecting',\n",
       " 'popUpWidnow'}"
      ]
     },
     "execution_count": 15,
     "metadata": {},
     "output_type": "execute_result"
    }
   ],
   "source": [
    "# gathering all columns that were identified to be deleted\n",
    "del_col = col_corr.union(weak_col_corr)\n",
    "del_col"
   ]
  },
  {
   "cell_type": "code",
   "execution_count": 16,
   "metadata": {
    "execution": {
     "iopub.execute_input": "2022-07-12T18:20:33.602471Z",
     "iopub.status.busy": "2022-07-12T18:20:33.601720Z",
     "iopub.status.idle": "2022-07-12T18:20:33.607534Z",
     "shell.execute_reply": "2022-07-12T18:20:33.606502Z"
    },
    "id": "5e4361d5",
    "papermill": {
     "duration": 0.036789,
     "end_time": "2022-07-12T18:20:33.609583",
     "exception": false,
     "start_time": "2022-07-12T18:20:33.572794",
     "status": "completed"
    },
    "tags": []
   },
   "outputs": [],
   "source": [
    "# dropping columns permanantly\n",
    "df.drop(del_col, axis = 1, inplace = True)"
   ]
  },
  {
   "cell_type": "code",
   "execution_count": 17,
   "metadata": {
    "colab": {
     "base_uri": "https://localhost:8080/"
    },
    "execution": {
     "iopub.execute_input": "2022-07-12T18:20:33.667445Z",
     "iopub.status.busy": "2022-07-12T18:20:33.667125Z",
     "iopub.status.idle": "2022-07-12T18:20:33.675827Z",
     "shell.execute_reply": "2022-07-12T18:20:33.674911Z"
    },
    "id": "21782d22",
    "outputId": "b262071e-f3c8-4694-c753-d58e8b206531",
    "papermill": {
     "duration": 0.039478,
     "end_time": "2022-07-12T18:20:33.677794",
     "exception": false,
     "start_time": "2022-07-12T18:20:33.638316",
     "status": "completed"
    },
    "tags": []
   },
   "outputs": [
    {
     "data": {
      "text/plain": [
       "having_IP_Address         0\n",
       "URL_Length                0\n",
       "having_At_Symbol          0\n",
       "Prefix_Suffix             0\n",
       "having_Sub_Domain         0\n",
       "SSLfinal_State            0\n",
       "port                      0\n",
       "Request_URL               0\n",
       "URL_of_Anchor             0\n",
       "Links_in_tags             0\n",
       "SFH                       0\n",
       "Submitting_to_email       0\n",
       "on_mouseover              0\n",
       "RightClick                0\n",
       "age_of_domain             0\n",
       "DNSRecord                 0\n",
       "web_traffic               0\n",
       "Page_Rank                 0\n",
       "Google_Index              0\n",
       "Links_pointing_to_page    0\n",
       "Statistical_report        0\n",
       "Result                    0\n",
       "dtype: int64"
      ]
     },
     "execution_count": 17,
     "metadata": {},
     "output_type": "execute_result"
    }
   ],
   "source": [
    "df.isnull().sum()"
   ]
  },
  {
   "cell_type": "markdown",
   "metadata": {
    "id": "b7582ca9",
    "papermill": {
     "duration": 0.02864,
     "end_time": "2022-07-12T18:20:33.734303",
     "exception": false,
     "start_time": "2022-07-12T18:20:33.705663",
     "status": "completed"
    },
    "tags": []
   },
   "source": [
    "### splitting dataset into train and test "
   ]
  },
  {
   "cell_type": "code",
   "execution_count": 18,
   "metadata": {
    "execution": {
     "iopub.execute_input": "2022-07-12T18:20:33.791752Z",
     "iopub.status.busy": "2022-07-12T18:20:33.791412Z",
     "iopub.status.idle": "2022-07-12T18:20:34.062230Z",
     "shell.execute_reply": "2022-07-12T18:20:34.061092Z"
    },
    "id": "6f754f5e",
    "papermill": {
     "duration": 0.302471,
     "end_time": "2022-07-12T18:20:34.064705",
     "exception": false,
     "start_time": "2022-07-12T18:20:33.762234",
     "status": "completed"
    },
    "tags": []
   },
   "outputs": [],
   "source": [
    "# Load libraries\n",
    "from sklearn.tree import DecisionTreeClassifier # Import Decision Tree Classifier\n",
    "from sklearn.model_selection import train_test_split # Import train_test_split function\n",
    "from sklearn import metrics #Import scikit-learn metrics module for accuracy calculation"
   ]
  },
  {
   "cell_type": "code",
   "execution_count": 19,
   "metadata": {
    "execution": {
     "iopub.execute_input": "2022-07-12T18:20:34.123471Z",
     "iopub.status.busy": "2022-07-12T18:20:34.122794Z",
     "iopub.status.idle": "2022-07-12T18:20:34.128589Z",
     "shell.execute_reply": "2022-07-12T18:20:34.127039Z"
    },
    "id": "486e028b",
    "papermill": {
     "duration": 0.03737,
     "end_time": "2022-07-12T18:20:34.130835",
     "exception": false,
     "start_time": "2022-07-12T18:20:34.093465",
     "status": "completed"
    },
    "tags": []
   },
   "outputs": [],
   "source": [
    "# input attribute and target attribute\n",
    "X = df.iloc[: , :-1]\n",
    "y = df.iloc[:, -1:]"
   ]
  },
  {
   "cell_type": "code",
   "execution_count": 20,
   "metadata": {
    "colab": {
     "base_uri": "https://localhost:8080/",
     "height": 488
    },
    "id": "sHQexyoTf9J3",
    "outputId": "d2bc7c5b-3f46-446d-bdf4-2c1ceea69f88"
   },
   "outputs": [
    {
     "data": {
      "text/html": [
       "<div>\n",
       "<style scoped>\n",
       "    .dataframe tbody tr th:only-of-type {\n",
       "        vertical-align: middle;\n",
       "    }\n",
       "\n",
       "    .dataframe tbody tr th {\n",
       "        vertical-align: top;\n",
       "    }\n",
       "\n",
       "    .dataframe thead th {\n",
       "        text-align: right;\n",
       "    }\n",
       "</style>\n",
       "<table border=\"1\" class=\"dataframe\">\n",
       "  <thead>\n",
       "    <tr style=\"text-align: right;\">\n",
       "      <th></th>\n",
       "      <th>having_IP_Address</th>\n",
       "      <th>URL_Length</th>\n",
       "      <th>having_At_Symbol</th>\n",
       "      <th>Prefix_Suffix</th>\n",
       "      <th>having_Sub_Domain</th>\n",
       "      <th>SSLfinal_State</th>\n",
       "      <th>port</th>\n",
       "      <th>Request_URL</th>\n",
       "      <th>URL_of_Anchor</th>\n",
       "      <th>Links_in_tags</th>\n",
       "      <th>...</th>\n",
       "      <th>Submitting_to_email</th>\n",
       "      <th>on_mouseover</th>\n",
       "      <th>RightClick</th>\n",
       "      <th>age_of_domain</th>\n",
       "      <th>DNSRecord</th>\n",
       "      <th>web_traffic</th>\n",
       "      <th>Page_Rank</th>\n",
       "      <th>Google_Index</th>\n",
       "      <th>Links_pointing_to_page</th>\n",
       "      <th>Statistical_report</th>\n",
       "    </tr>\n",
       "  </thead>\n",
       "  <tbody>\n",
       "    <tr>\n",
       "      <th>0</th>\n",
       "      <td>-1</td>\n",
       "      <td>1</td>\n",
       "      <td>1</td>\n",
       "      <td>-1</td>\n",
       "      <td>-1</td>\n",
       "      <td>-1</td>\n",
       "      <td>1</td>\n",
       "      <td>1</td>\n",
       "      <td>-1</td>\n",
       "      <td>1</td>\n",
       "      <td>...</td>\n",
       "      <td>-1</td>\n",
       "      <td>1</td>\n",
       "      <td>1</td>\n",
       "      <td>-1</td>\n",
       "      <td>-1</td>\n",
       "      <td>-1</td>\n",
       "      <td>-1</td>\n",
       "      <td>1</td>\n",
       "      <td>1</td>\n",
       "      <td>-1</td>\n",
       "    </tr>\n",
       "    <tr>\n",
       "      <th>1</th>\n",
       "      <td>1</td>\n",
       "      <td>1</td>\n",
       "      <td>1</td>\n",
       "      <td>-1</td>\n",
       "      <td>0</td>\n",
       "      <td>1</td>\n",
       "      <td>1</td>\n",
       "      <td>1</td>\n",
       "      <td>0</td>\n",
       "      <td>-1</td>\n",
       "      <td>...</td>\n",
       "      <td>1</td>\n",
       "      <td>1</td>\n",
       "      <td>1</td>\n",
       "      <td>-1</td>\n",
       "      <td>-1</td>\n",
       "      <td>0</td>\n",
       "      <td>-1</td>\n",
       "      <td>1</td>\n",
       "      <td>1</td>\n",
       "      <td>1</td>\n",
       "    </tr>\n",
       "    <tr>\n",
       "      <th>2</th>\n",
       "      <td>1</td>\n",
       "      <td>0</td>\n",
       "      <td>1</td>\n",
       "      <td>-1</td>\n",
       "      <td>-1</td>\n",
       "      <td>-1</td>\n",
       "      <td>1</td>\n",
       "      <td>1</td>\n",
       "      <td>0</td>\n",
       "      <td>-1</td>\n",
       "      <td>...</td>\n",
       "      <td>-1</td>\n",
       "      <td>1</td>\n",
       "      <td>1</td>\n",
       "      <td>1</td>\n",
       "      <td>-1</td>\n",
       "      <td>1</td>\n",
       "      <td>-1</td>\n",
       "      <td>1</td>\n",
       "      <td>0</td>\n",
       "      <td>-1</td>\n",
       "    </tr>\n",
       "    <tr>\n",
       "      <th>3</th>\n",
       "      <td>1</td>\n",
       "      <td>0</td>\n",
       "      <td>1</td>\n",
       "      <td>-1</td>\n",
       "      <td>-1</td>\n",
       "      <td>-1</td>\n",
       "      <td>1</td>\n",
       "      <td>-1</td>\n",
       "      <td>0</td>\n",
       "      <td>0</td>\n",
       "      <td>...</td>\n",
       "      <td>1</td>\n",
       "      <td>1</td>\n",
       "      <td>1</td>\n",
       "      <td>-1</td>\n",
       "      <td>-1</td>\n",
       "      <td>1</td>\n",
       "      <td>-1</td>\n",
       "      <td>1</td>\n",
       "      <td>-1</td>\n",
       "      <td>1</td>\n",
       "    </tr>\n",
       "    <tr>\n",
       "      <th>4</th>\n",
       "      <td>1</td>\n",
       "      <td>0</td>\n",
       "      <td>1</td>\n",
       "      <td>-1</td>\n",
       "      <td>1</td>\n",
       "      <td>1</td>\n",
       "      <td>1</td>\n",
       "      <td>1</td>\n",
       "      <td>0</td>\n",
       "      <td>0</td>\n",
       "      <td>...</td>\n",
       "      <td>1</td>\n",
       "      <td>-1</td>\n",
       "      <td>1</td>\n",
       "      <td>-1</td>\n",
       "      <td>-1</td>\n",
       "      <td>0</td>\n",
       "      <td>-1</td>\n",
       "      <td>1</td>\n",
       "      <td>1</td>\n",
       "      <td>1</td>\n",
       "    </tr>\n",
       "    <tr>\n",
       "      <th>...</th>\n",
       "      <td>...</td>\n",
       "      <td>...</td>\n",
       "      <td>...</td>\n",
       "      <td>...</td>\n",
       "      <td>...</td>\n",
       "      <td>...</td>\n",
       "      <td>...</td>\n",
       "      <td>...</td>\n",
       "      <td>...</td>\n",
       "      <td>...</td>\n",
       "      <td>...</td>\n",
       "      <td>...</td>\n",
       "      <td>...</td>\n",
       "      <td>...</td>\n",
       "      <td>...</td>\n",
       "      <td>...</td>\n",
       "      <td>...</td>\n",
       "      <td>...</td>\n",
       "      <td>...</td>\n",
       "      <td>...</td>\n",
       "      <td>...</td>\n",
       "    </tr>\n",
       "    <tr>\n",
       "      <th>11050</th>\n",
       "      <td>1</td>\n",
       "      <td>-1</td>\n",
       "      <td>-1</td>\n",
       "      <td>1</td>\n",
       "      <td>1</td>\n",
       "      <td>1</td>\n",
       "      <td>-1</td>\n",
       "      <td>1</td>\n",
       "      <td>1</td>\n",
       "      <td>1</td>\n",
       "      <td>...</td>\n",
       "      <td>-1</td>\n",
       "      <td>-1</td>\n",
       "      <td>-1</td>\n",
       "      <td>1</td>\n",
       "      <td>1</td>\n",
       "      <td>-1</td>\n",
       "      <td>-1</td>\n",
       "      <td>1</td>\n",
       "      <td>1</td>\n",
       "      <td>1</td>\n",
       "    </tr>\n",
       "    <tr>\n",
       "      <th>11051</th>\n",
       "      <td>-1</td>\n",
       "      <td>1</td>\n",
       "      <td>-1</td>\n",
       "      <td>-1</td>\n",
       "      <td>1</td>\n",
       "      <td>-1</td>\n",
       "      <td>-1</td>\n",
       "      <td>1</td>\n",
       "      <td>-1</td>\n",
       "      <td>-1</td>\n",
       "      <td>...</td>\n",
       "      <td>-1</td>\n",
       "      <td>-1</td>\n",
       "      <td>1</td>\n",
       "      <td>1</td>\n",
       "      <td>1</td>\n",
       "      <td>1</td>\n",
       "      <td>1</td>\n",
       "      <td>1</td>\n",
       "      <td>-1</td>\n",
       "      <td>1</td>\n",
       "    </tr>\n",
       "    <tr>\n",
       "      <th>11052</th>\n",
       "      <td>1</td>\n",
       "      <td>-1</td>\n",
       "      <td>1</td>\n",
       "      <td>-1</td>\n",
       "      <td>1</td>\n",
       "      <td>-1</td>\n",
       "      <td>1</td>\n",
       "      <td>1</td>\n",
       "      <td>0</td>\n",
       "      <td>-1</td>\n",
       "      <td>...</td>\n",
       "      <td>1</td>\n",
       "      <td>1</td>\n",
       "      <td>1</td>\n",
       "      <td>1</td>\n",
       "      <td>1</td>\n",
       "      <td>1</td>\n",
       "      <td>-1</td>\n",
       "      <td>1</td>\n",
       "      <td>0</td>\n",
       "      <td>1</td>\n",
       "    </tr>\n",
       "    <tr>\n",
       "      <th>11053</th>\n",
       "      <td>-1</td>\n",
       "      <td>-1</td>\n",
       "      <td>1</td>\n",
       "      <td>-1</td>\n",
       "      <td>-1</td>\n",
       "      <td>-1</td>\n",
       "      <td>1</td>\n",
       "      <td>-1</td>\n",
       "      <td>-1</td>\n",
       "      <td>1</td>\n",
       "      <td>...</td>\n",
       "      <td>1</td>\n",
       "      <td>-1</td>\n",
       "      <td>1</td>\n",
       "      <td>1</td>\n",
       "      <td>1</td>\n",
       "      <td>1</td>\n",
       "      <td>-1</td>\n",
       "      <td>1</td>\n",
       "      <td>1</td>\n",
       "      <td>1</td>\n",
       "    </tr>\n",
       "    <tr>\n",
       "      <th>11054</th>\n",
       "      <td>-1</td>\n",
       "      <td>-1</td>\n",
       "      <td>1</td>\n",
       "      <td>-1</td>\n",
       "      <td>-1</td>\n",
       "      <td>-1</td>\n",
       "      <td>1</td>\n",
       "      <td>-1</td>\n",
       "      <td>-1</td>\n",
       "      <td>0</td>\n",
       "      <td>...</td>\n",
       "      <td>1</td>\n",
       "      <td>1</td>\n",
       "      <td>1</td>\n",
       "      <td>-1</td>\n",
       "      <td>1</td>\n",
       "      <td>-1</td>\n",
       "      <td>-1</td>\n",
       "      <td>-1</td>\n",
       "      <td>1</td>\n",
       "      <td>-1</td>\n",
       "    </tr>\n",
       "  </tbody>\n",
       "</table>\n",
       "<p>11055 rows × 21 columns</p>\n",
       "</div>"
      ],
      "text/plain": [
       "       having_IP_Address  URL_Length  having_At_Symbol  Prefix_Suffix  \\\n",
       "0                     -1           1                 1             -1   \n",
       "1                      1           1                 1             -1   \n",
       "2                      1           0                 1             -1   \n",
       "3                      1           0                 1             -1   \n",
       "4                      1           0                 1             -1   \n",
       "...                  ...         ...               ...            ...   \n",
       "11050                  1          -1                -1              1   \n",
       "11051                 -1           1                -1             -1   \n",
       "11052                  1          -1                 1             -1   \n",
       "11053                 -1          -1                 1             -1   \n",
       "11054                 -1          -1                 1             -1   \n",
       "\n",
       "       having_Sub_Domain  SSLfinal_State  port  Request_URL  URL_of_Anchor  \\\n",
       "0                     -1              -1     1            1             -1   \n",
       "1                      0               1     1            1              0   \n",
       "2                     -1              -1     1            1              0   \n",
       "3                     -1              -1     1           -1              0   \n",
       "4                      1               1     1            1              0   \n",
       "...                  ...             ...   ...          ...            ...   \n",
       "11050                  1               1    -1            1              1   \n",
       "11051                  1              -1    -1            1             -1   \n",
       "11052                  1              -1     1            1              0   \n",
       "11053                 -1              -1     1           -1             -1   \n",
       "11054                 -1              -1     1           -1             -1   \n",
       "\n",
       "       Links_in_tags  ...  Submitting_to_email  on_mouseover  RightClick  \\\n",
       "0                  1  ...                   -1             1           1   \n",
       "1                 -1  ...                    1             1           1   \n",
       "2                 -1  ...                   -1             1           1   \n",
       "3                  0  ...                    1             1           1   \n",
       "4                  0  ...                    1            -1           1   \n",
       "...              ...  ...                  ...           ...         ...   \n",
       "11050              1  ...                   -1            -1          -1   \n",
       "11051             -1  ...                   -1            -1           1   \n",
       "11052             -1  ...                    1             1           1   \n",
       "11053              1  ...                    1            -1           1   \n",
       "11054              0  ...                    1             1           1   \n",
       "\n",
       "       age_of_domain  DNSRecord  web_traffic  Page_Rank  Google_Index  \\\n",
       "0                 -1         -1           -1         -1             1   \n",
       "1                 -1         -1            0         -1             1   \n",
       "2                  1         -1            1         -1             1   \n",
       "3                 -1         -1            1         -1             1   \n",
       "4                 -1         -1            0         -1             1   \n",
       "...              ...        ...          ...        ...           ...   \n",
       "11050              1          1           -1         -1             1   \n",
       "11051              1          1            1          1             1   \n",
       "11052              1          1            1         -1             1   \n",
       "11053              1          1            1         -1             1   \n",
       "11054             -1          1           -1         -1            -1   \n",
       "\n",
       "       Links_pointing_to_page  Statistical_report  \n",
       "0                           1                  -1  \n",
       "1                           1                   1  \n",
       "2                           0                  -1  \n",
       "3                          -1                   1  \n",
       "4                           1                   1  \n",
       "...                       ...                 ...  \n",
       "11050                       1                   1  \n",
       "11051                      -1                   1  \n",
       "11052                       0                   1  \n",
       "11053                       1                   1  \n",
       "11054                       1                  -1  \n",
       "\n",
       "[11055 rows x 21 columns]"
      ]
     },
     "execution_count": 20,
     "metadata": {},
     "output_type": "execute_result"
    }
   ],
   "source": [
    "X"
   ]
  },
  {
   "cell_type": "code",
   "execution_count": 21,
   "metadata": {
    "colab": {
     "base_uri": "https://localhost:8080/",
     "height": 424
    },
    "execution": {
     "iopub.execute_input": "2022-07-12T18:20:34.188559Z",
     "iopub.status.busy": "2022-07-12T18:20:34.188245Z",
     "iopub.status.idle": "2022-07-12T18:20:34.198565Z",
     "shell.execute_reply": "2022-07-12T18:20:34.197616Z"
    },
    "id": "6c18aff6",
    "outputId": "1b46f52e-ab67-4755-ce6a-3318ba817803",
    "papermill": {
     "duration": 0.041533,
     "end_time": "2022-07-12T18:20:34.200882",
     "exception": false,
     "start_time": "2022-07-12T18:20:34.159349",
     "status": "completed"
    },
    "tags": []
   },
   "outputs": [
    {
     "data": {
      "text/html": [
       "<div>\n",
       "<style scoped>\n",
       "    .dataframe tbody tr th:only-of-type {\n",
       "        vertical-align: middle;\n",
       "    }\n",
       "\n",
       "    .dataframe tbody tr th {\n",
       "        vertical-align: top;\n",
       "    }\n",
       "\n",
       "    .dataframe thead th {\n",
       "        text-align: right;\n",
       "    }\n",
       "</style>\n",
       "<table border=\"1\" class=\"dataframe\">\n",
       "  <thead>\n",
       "    <tr style=\"text-align: right;\">\n",
       "      <th></th>\n",
       "      <th>Result</th>\n",
       "    </tr>\n",
       "  </thead>\n",
       "  <tbody>\n",
       "    <tr>\n",
       "      <th>0</th>\n",
       "      <td>-1</td>\n",
       "    </tr>\n",
       "    <tr>\n",
       "      <th>1</th>\n",
       "      <td>-1</td>\n",
       "    </tr>\n",
       "    <tr>\n",
       "      <th>2</th>\n",
       "      <td>-1</td>\n",
       "    </tr>\n",
       "    <tr>\n",
       "      <th>3</th>\n",
       "      <td>-1</td>\n",
       "    </tr>\n",
       "    <tr>\n",
       "      <th>4</th>\n",
       "      <td>1</td>\n",
       "    </tr>\n",
       "    <tr>\n",
       "      <th>...</th>\n",
       "      <td>...</td>\n",
       "    </tr>\n",
       "    <tr>\n",
       "      <th>11050</th>\n",
       "      <td>1</td>\n",
       "    </tr>\n",
       "    <tr>\n",
       "      <th>11051</th>\n",
       "      <td>-1</td>\n",
       "    </tr>\n",
       "    <tr>\n",
       "      <th>11052</th>\n",
       "      <td>-1</td>\n",
       "    </tr>\n",
       "    <tr>\n",
       "      <th>11053</th>\n",
       "      <td>-1</td>\n",
       "    </tr>\n",
       "    <tr>\n",
       "      <th>11054</th>\n",
       "      <td>-1</td>\n",
       "    </tr>\n",
       "  </tbody>\n",
       "</table>\n",
       "<p>11055 rows × 1 columns</p>\n",
       "</div>"
      ],
      "text/plain": [
       "       Result\n",
       "0          -1\n",
       "1          -1\n",
       "2          -1\n",
       "3          -1\n",
       "4           1\n",
       "...       ...\n",
       "11050       1\n",
       "11051      -1\n",
       "11052      -1\n",
       "11053      -1\n",
       "11054      -1\n",
       "\n",
       "[11055 rows x 1 columns]"
      ]
     },
     "execution_count": 21,
     "metadata": {},
     "output_type": "execute_result"
    }
   ],
   "source": [
    "y"
   ]
  },
  {
   "cell_type": "code",
   "execution_count": 22,
   "metadata": {
    "execution": {
     "iopub.execute_input": "2022-07-12T18:20:34.259652Z",
     "iopub.status.busy": "2022-07-12T18:20:34.259338Z",
     "iopub.status.idle": "2022-07-12T18:20:34.267802Z",
     "shell.execute_reply": "2022-07-12T18:20:34.266952Z"
    },
    "id": "7b4e964e",
    "papermill": {
     "duration": 0.040774,
     "end_time": "2022-07-12T18:20:34.269732",
     "exception": false,
     "start_time": "2022-07-12T18:20:34.228958",
     "status": "completed"
    },
    "tags": []
   },
   "outputs": [],
   "source": [
    "# train test split with test size as 0.25 \n",
    "X_train, X_test, y_train, y_test = train_test_split(X, y, test_size=0.25, random_state=1)"
   ]
  },
  {
   "cell_type": "markdown",
   "metadata": {
    "id": "94bdf542",
    "papermill": {
     "duration": 0.027789,
     "end_time": "2022-07-12T18:20:34.325557",
     "exception": false,
     "start_time": "2022-07-12T18:20:34.297768",
     "status": "completed"
    },
    "tags": []
   },
   "source": [
    "### Decision tree classifier"
   ]
  },
  {
   "cell_type": "code",
   "execution_count": 23,
   "metadata": {
    "execution": {
     "iopub.execute_input": "2022-07-12T18:20:34.383404Z",
     "iopub.status.busy": "2022-07-12T18:20:34.383073Z",
     "iopub.status.idle": "2022-07-12T18:20:34.404764Z",
     "shell.execute_reply": "2022-07-12T18:20:34.403813Z"
    },
    "id": "f77792df",
    "papermill": {
     "duration": 0.053283,
     "end_time": "2022-07-12T18:20:34.406990",
     "exception": false,
     "start_time": "2022-07-12T18:20:34.353707",
     "status": "completed"
    },
    "tags": []
   },
   "outputs": [],
   "source": [
    "# Create Decision Tree classifer object\n",
    "clf = DecisionTreeClassifier()\n",
    "\n",
    "# Train Decision Tree Classifer\n",
    "clf = clf.fit(X_train,y_train)\n",
    "\n",
    "#Predict the response for test dataset\n",
    "y_pred = clf.predict(X_test)"
   ]
  },
  {
   "cell_type": "code",
   "execution_count": 24,
   "metadata": {
    "colab": {
     "base_uri": "https://localhost:8080/"
    },
    "execution": {
     "iopub.execute_input": "2022-07-12T18:20:34.467428Z",
     "iopub.status.busy": "2022-07-12T18:20:34.465605Z",
     "iopub.status.idle": "2022-07-12T18:20:34.476549Z",
     "shell.execute_reply": "2022-07-12T18:20:34.475572Z"
    },
    "id": "b90b6f42",
    "outputId": "27da5c29-7b61-470e-b67f-0e0d44099a79",
    "papermill": {
     "duration": 0.042748,
     "end_time": "2022-07-12T18:20:34.478740",
     "exception": false,
     "start_time": "2022-07-12T18:20:34.435992",
     "status": "completed"
    },
    "tags": []
   },
   "outputs": [
    {
     "data": {
      "text/plain": [
       "0.9879387287420094"
      ]
     },
     "execution_count": 24,
     "metadata": {},
     "output_type": "execute_result"
    }
   ],
   "source": [
    "clf.score(X_train, y_train)"
   ]
  },
  {
   "cell_type": "code",
   "execution_count": 25,
   "metadata": {
    "colab": {
     "base_uri": "https://localhost:8080/"
    },
    "execution": {
     "iopub.execute_input": "2022-07-12T18:20:34.537479Z",
     "iopub.status.busy": "2022-07-12T18:20:34.537172Z",
     "iopub.status.idle": "2022-07-12T18:20:34.543934Z",
     "shell.execute_reply": "2022-07-12T18:20:34.542382Z"
    },
    "id": "8af5740b",
    "outputId": "b0b264e0-27d1-4c23-f593-ba8ee7fe610b",
    "papermill": {
     "duration": 0.038856,
     "end_time": "2022-07-12T18:20:34.546466",
     "exception": false,
     "start_time": "2022-07-12T18:20:34.507610",
     "status": "completed"
    },
    "tags": []
   },
   "outputs": [
    {
     "name": "stdout",
     "output_type": "stream",
     "text": [
      "Accuracy: 0.959479015918958\n"
     ]
    }
   ],
   "source": [
    "# Model Accuracy, how often is the classifier correct?\n",
    "print(\"Accuracy:\",metrics.accuracy_score(y_pred, y_test))"
   ]
  },
  {
   "cell_type": "code",
   "execution_count": 26,
   "metadata": {
    "colab": {
     "base_uri": "https://localhost:8080/"
    },
    "execution": {
     "iopub.execute_input": "2022-07-12T18:20:34.606783Z",
     "iopub.status.busy": "2022-07-12T18:20:34.605943Z",
     "iopub.status.idle": "2022-07-12T18:20:34.619778Z",
     "shell.execute_reply": "2022-07-12T18:20:34.618790Z"
    },
    "id": "b1850fcc",
    "outputId": "70493aea-888b-4a28-9156-cca7fbf326e5",
    "papermill": {
     "duration": 0.046207,
     "end_time": "2022-07-12T18:20:34.621922",
     "exception": false,
     "start_time": "2022-07-12T18:20:34.575715",
     "status": "completed"
    },
    "tags": []
   },
   "outputs": [
    {
     "name": "stdout",
     "output_type": "stream",
     "text": [
      "              precision    recall  f1-score   support\n",
      "\n",
      "          -1       0.95      0.96      0.96      1236\n",
      "           1       0.97      0.96      0.96      1528\n",
      "\n",
      "    accuracy                           0.96      2764\n",
      "   macro avg       0.96      0.96      0.96      2764\n",
      "weighted avg       0.96      0.96      0.96      2764\n",
      "\n"
     ]
    }
   ],
   "source": [
    "from sklearn.metrics import confusion_matrix, classification_report\n",
    "# classification report\n",
    "print(classification_report(y_test, y_pred))\n"
   ]
  },
  {
   "cell_type": "markdown",
   "metadata": {
    "id": "6df3d127",
    "papermill": {
     "duration": 0.028039,
     "end_time": "2022-07-12T18:20:34.679982",
     "exception": false,
     "start_time": "2022-07-12T18:20:34.651943",
     "status": "completed"
    },
    "tags": []
   },
   "source": [
    "**Confusion matrix for decision tree model**"
   ]
  },
  {
   "cell_type": "markdown",
   "metadata": {
    "id": "781cb37d",
    "papermill": {
     "duration": 0.028322,
     "end_time": "2022-07-12T18:20:34.736465",
     "exception": false,
     "start_time": "2022-07-12T18:20:34.708143",
     "status": "completed"
    },
    "tags": []
   },
   "source": [
    "A confusion matrix is a summary of prediction results on a classification problem.\n",
    "\n",
    "The number of correct and incorrect predictions are summarized with count values and broken down by each class. This is the key to the confusion matrix.\n",
    "\n"
   ]
  },
  {
   "cell_type": "code",
   "execution_count": 27,
   "metadata": {
    "colab": {
     "base_uri": "https://localhost:8080/"
    },
    "execution": {
     "iopub.execute_input": "2022-07-12T18:20:34.796776Z",
     "iopub.status.busy": "2022-07-12T18:20:34.795873Z",
     "iopub.status.idle": "2022-07-12T18:20:34.807709Z",
     "shell.execute_reply": "2022-07-12T18:20:34.806658Z"
    },
    "id": "833a9e05",
    "outputId": "3f28f77b-e013-4bec-ab65-c0da580334cf",
    "papermill": {
     "duration": 0.044191,
     "end_time": "2022-07-12T18:20:34.809740",
     "exception": false,
     "start_time": "2022-07-12T18:20:34.765549",
     "status": "completed"
    },
    "tags": []
   },
   "outputs": [
    {
     "data": {
      "text/plain": [
       "array([[1190,   46],\n",
       "       [  66, 1462]], dtype=int64)"
      ]
     },
     "execution_count": 27,
     "metadata": {},
     "output_type": "execute_result"
    }
   ],
   "source": [
    "# the confusion matrix for our model\n",
    "confusion_matrix(y_test, y_pred)"
   ]
  },
  {
   "cell_type": "code",
   "execution_count": 28,
   "metadata": {
    "colab": {
     "base_uri": "https://localhost:8080/",
     "height": 282
    },
    "execution": {
     "iopub.execute_input": "2022-07-12T18:20:34.867981Z",
     "iopub.status.busy": "2022-07-12T18:20:34.867620Z",
     "iopub.status.idle": "2022-07-12T18:20:35.069786Z",
     "shell.execute_reply": "2022-07-12T18:20:35.068763Z"
    },
    "id": "1ba2bc67",
    "outputId": "b0f1ba20-875e-422e-f1e5-680578b094f5",
    "papermill": {
     "duration": 0.233776,
     "end_time": "2022-07-12T18:20:35.071856",
     "exception": false,
     "start_time": "2022-07-12T18:20:34.838080",
     "status": "completed"
    },
    "tags": []
   },
   "outputs": [
    {
     "data": {
      "text/plain": [
       "<AxesSubplot:>"
      ]
     },
     "execution_count": 28,
     "metadata": {},
     "output_type": "execute_result"
    },
    {
     "data": {
      "image/png": "[encoded data removed]",
      "text/plain": [
       "<Figure size 432x288 with 2 Axes>"
      ]
     },
     "metadata": {
      "needs_background": "light"
     },
     "output_type": "display_data"
    }
   ],
   "source": [
    "sns.heatmap(confusion_matrix(y_test, y_pred), annot = True, fmt='0.0f')"
   ]
  },
  {
   "cell_type": "code",
   "execution_count": 29,
   "metadata": {
    "colab": {
     "base_uri": "https://localhost:8080/"
    },
    "id": "-K4z3Cim6tmG",
    "outputId": "03d86f90-bb04-49ce-b878-9b7a085bc291"
   },
   "outputs": [
    {
     "data": {
      "text/plain": [
       "Index(['having_IP_Address', 'URL_Length', 'having_At_Symbol', 'Prefix_Suffix',\n",
       "       'having_Sub_Domain', 'SSLfinal_State', 'port', 'Request_URL',\n",
       "       'URL_of_Anchor', 'Links_in_tags', 'SFH', 'Submitting_to_email',\n",
       "       'on_mouseover', 'RightClick', 'age_of_domain', 'DNSRecord',\n",
       "       'web_traffic', 'Page_Rank', 'Google_Index', 'Links_pointing_to_page',\n",
       "       'Statistical_report', 'Result'],\n",
       "      dtype='object')"
      ]
     },
     "execution_count": 29,
     "metadata": {},
     "output_type": "execute_result"
    }
   ],
   "source": [
    "df.columns"
   ]
  },
  {
   "cell_type": "code",
   "execution_count": 30,
   "metadata": {
    "colab": {
     "base_uri": "https://localhost:8080/"
    },
    "id": "qCcMtCvK6tjm",
    "outputId": "87c2aee9-017e-47ac-96ec-c6b6ad02dd1a"
   },
   "outputs": [
    {
     "data": {
      "text/plain": [
       "(11055, 22)"
      ]
     },
     "execution_count": 30,
     "metadata": {},
     "output_type": "execute_result"
    }
   ],
   "source": [
    "df.shape"
   ]
  },
  {
   "cell_type": "markdown",
   "metadata": {
    "id": "5ee3aceb",
    "papermill": {
     "duration": 0.028479,
     "end_time": "2022-07-12T18:20:35.130514",
     "exception": false,
     "start_time": "2022-07-12T18:20:35.102035",
     "status": "completed"
    },
    "tags": []
   },
   "source": [
    "### Random Forest"
   ]
  },
  {
   "cell_type": "code",
   "execution_count": 31,
   "metadata": {
    "colab": {
     "base_uri": "https://localhost:8080/"
    },
    "execution": {
     "iopub.execute_input": "2022-07-12T18:20:35.190495Z",
     "iopub.status.busy": "2022-07-12T18:20:35.189586Z",
     "iopub.status.idle": "2022-07-12T18:20:35.674921Z",
     "shell.execute_reply": "2022-07-12T18:20:35.673880Z"
    },
    "id": "7430730b",
    "outputId": "0ec2e9b9-5961-463b-f171-0d932b3c8f5e",
    "papermill": {
     "duration": 0.517827,
     "end_time": "2022-07-12T18:20:35.677030",
     "exception": false,
     "start_time": "2022-07-12T18:20:35.159203",
     "status": "completed"
    },
    "tags": []
   },
   "outputs": [
    {
     "data": {
      "text/plain": [
       "RandomForestClassifier()"
      ]
     },
     "execution_count": 31,
     "metadata": {},
     "output_type": "execute_result"
    }
   ],
   "source": [
    "from sklearn.ensemble import RandomForestClassifier\n",
    "rfc = RandomForestClassifier(n_estimators=100)\n",
    "# fittin the model\n",
    "rfc.fit(X_train, y_train)"
   ]
  },
  {
   "cell_type": "code",
   "execution_count": 32,
   "metadata": {
    "execution": {
     "iopub.execute_input": "2022-07-12T18:20:35.737287Z",
     "iopub.status.busy": "2022-07-12T18:20:35.736952Z",
     "iopub.status.idle": "2022-07-12T18:20:35.797016Z",
     "shell.execute_reply": "2022-07-12T18:20:35.796064Z"
    },
    "id": "c7f65886",
    "papermill": {
     "duration": 0.093188,
     "end_time": "2022-07-12T18:20:35.799336",
     "exception": false,
     "start_time": "2022-07-12T18:20:35.706148",
     "status": "completed"
    },
    "tags": []
   },
   "outputs": [],
   "source": [
    "# prediction on validation dataset\n",
    "y_pred = rfc.predict(X_test)"
   ]
  },
  {
   "cell_type": "code",
   "execution_count": 33,
   "metadata": {
    "execution": {
     "iopub.execute_input": "2022-07-12T18:20:35.859599Z",
     "iopub.status.busy": "2022-07-12T18:20:35.858690Z",
     "iopub.status.idle": "2022-07-12T18:20:35.983350Z",
     "shell.execute_reply": "2022-07-12T18:20:35.982352Z"
    },
    "id": "daba608e",
    "papermill": {
     "duration": 0.157192,
     "end_time": "2022-07-12T18:20:35.985722",
     "exception": false,
     "start_time": "2022-07-12T18:20:35.828530",
     "status": "completed"
    },
    "tags": []
   },
   "outputs": [],
   "source": [
    "# prediction on training dataset\n",
    "y_pred_train = rfc.predict(X_train)"
   ]
  },
  {
   "cell_type": "code",
   "execution_count": 34,
   "metadata": {
    "colab": {
     "base_uri": "https://localhost:8080/"
    },
    "execution": {
     "iopub.execute_input": "2022-07-12T18:20:36.046471Z",
     "iopub.status.busy": "2022-07-12T18:20:36.046141Z",
     "iopub.status.idle": "2022-07-12T18:20:36.053187Z",
     "shell.execute_reply": "2022-07-12T18:20:36.052162Z"
    },
    "id": "26d0383e",
    "outputId": "ebe5c4d1-1f98-480f-e202-f35f627e1833",
    "papermill": {
     "duration": 0.040151,
     "end_time": "2022-07-12T18:20:36.055275",
     "exception": false,
     "start_time": "2022-07-12T18:20:36.015124",
     "status": "completed"
    },
    "tags": []
   },
   "outputs": [
    {
     "name": "stdout",
     "output_type": "stream",
     "text": [
      "Train ACCURACY OF THE MODEL:  0.9879387287420094\n"
     ]
    }
   ],
   "source": [
    "from sklearn import metrics\n",
    "print(\"Train ACCURACY OF THE MODEL: \", metrics.accuracy_score(y_train, y_pred_train))"
   ]
  },
  {
   "cell_type": "code",
   "execution_count": 35,
   "metadata": {
    "colab": {
     "base_uri": "https://localhost:8080/"
    },
    "execution": {
     "iopub.execute_input": "2022-07-12T18:20:36.114756Z",
     "iopub.status.busy": "2022-07-12T18:20:36.114037Z",
     "iopub.status.idle": "2022-07-12T18:20:36.121012Z",
     "shell.execute_reply": "2022-07-12T18:20:36.119822Z"
    },
    "id": "30ccd905",
    "outputId": "cbb0758e-eb27-46ba-f2a6-50d7b3056866",
    "papermill": {
     "duration": 0.038839,
     "end_time": "2022-07-12T18:20:36.122946",
     "exception": false,
     "start_time": "2022-07-12T18:20:36.084107",
     "status": "completed"
    },
    "tags": []
   },
   "outputs": [
    {
     "name": "stdout",
     "output_type": "stream",
     "text": [
      "ACCURACY OF THE MODEL:  0.9659913169319826\n"
     ]
    }
   ],
   "source": [
    "from sklearn import metrics\n",
    "print(\"ACCURACY OF THE MODEL: \", metrics.accuracy_score(y_test, y_pred))"
   ]
  },
  {
   "cell_type": "code",
   "execution_count": 36,
   "metadata": {
    "colab": {
     "base_uri": "https://localhost:8080/"
    },
    "execution": {
     "iopub.execute_input": "2022-07-12T18:20:36.182557Z",
     "iopub.status.busy": "2022-07-12T18:20:36.182237Z",
     "iopub.status.idle": "2022-07-12T18:20:36.197211Z",
     "shell.execute_reply": "2022-07-12T18:20:36.196148Z"
    },
    "id": "08b97a2e",
    "outputId": "46be3aa2-1111-4932-db04-e41b522998ac",
    "papermill": {
     "duration": 0.04738,
     "end_time": "2022-07-12T18:20:36.199379",
     "exception": false,
     "start_time": "2022-07-12T18:20:36.151999",
     "status": "completed"
    },
    "tags": []
   },
   "outputs": [
    {
     "name": "stdout",
     "output_type": "stream",
     "text": [
      "              precision    recall  f1-score   support\n",
      "\n",
      "          -1       0.97      0.95      0.96      1236\n",
      "           1       0.96      0.98      0.97      1528\n",
      "\n",
      "    accuracy                           0.97      2764\n",
      "   macro avg       0.97      0.96      0.97      2764\n",
      "weighted avg       0.97      0.97      0.97      2764\n",
      "\n"
     ]
    }
   ],
   "source": [
    "from sklearn.metrics import confusion_matrix, classification_report\n",
    "print(classification_report(y_test, y_pred))"
   ]
  },
  {
   "cell_type": "code",
   "execution_count": 37,
   "metadata": {
    "colab": {
     "base_uri": "https://localhost:8080/"
    },
    "execution": {
     "iopub.execute_input": "2022-07-12T18:20:36.261137Z",
     "iopub.status.busy": "2022-07-12T18:20:36.260214Z",
     "iopub.status.idle": "2022-07-12T18:20:36.269994Z",
     "shell.execute_reply": "2022-07-12T18:20:36.268998Z"
    },
    "id": "f700f5aa",
    "outputId": "6b48ed1a-c12f-40f4-b78c-0fef43d342c7",
    "papermill": {
     "duration": 0.042684,
     "end_time": "2022-07-12T18:20:36.272052",
     "exception": false,
     "start_time": "2022-07-12T18:20:36.229368",
     "status": "completed"
    },
    "tags": []
   },
   "outputs": [
    {
     "data": {
      "text/plain": [
       "array([[1180,   56],\n",
       "       [  38, 1490]], dtype=int64)"
      ]
     },
     "execution_count": 37,
     "metadata": {},
     "output_type": "execute_result"
    }
   ],
   "source": [
    "confusion_matrix(y_test, y_pred)"
   ]
  },
  {
   "cell_type": "code",
   "execution_count": 38,
   "metadata": {
    "colab": {
     "base_uri": "https://localhost:8080/",
     "height": 282
    },
    "execution": {
     "iopub.execute_input": "2022-07-12T18:20:36.332510Z",
     "iopub.status.busy": "2022-07-12T18:20:36.332182Z",
     "iopub.status.idle": "2022-07-12T18:20:36.536712Z",
     "shell.execute_reply": "2022-07-12T18:20:36.535796Z"
    },
    "id": "4c2c7038",
    "outputId": "bb15c68d-4498-416a-8cb2-1526c6e41f52",
    "papermill": {
     "duration": 0.23757,
     "end_time": "2022-07-12T18:20:36.538978",
     "exception": false,
     "start_time": "2022-07-12T18:20:36.301408",
     "status": "completed"
    },
    "tags": []
   },
   "outputs": [
    {
     "data": {
      "text/plain": [
       "<AxesSubplot:>"
      ]
     },
     "execution_count": 38,
     "metadata": {},
     "output_type": "execute_result"
    },
    {
     "data": {
      "image/png": "[encoded data removed]",
      "text/plain": [
       "<Figure size 432x288 with 2 Axes>"
      ]
     },
     "metadata": {
      "needs_background": "light"
     },
     "output_type": "display_data"
    }
   ],
   "source": [
    "sns.heatmap(confusion_matrix(y_test, y_pred), annot = True, fmt='0.0f')"
   ]
  },
  {
   "cell_type": "markdown",
   "metadata": {
    "id": "18d70df6",
    "papermill": {
     "duration": 0.029706,
     "end_time": "2022-07-12T18:20:36.598153",
     "exception": false,
     "start_time": "2022-07-12T18:20:36.568447",
     "status": "completed"
    },
    "tags": []
   },
   "source": [
    "### SVM\n"
   ]
  },
  {
   "cell_type": "code",
   "execution_count": 39,
   "metadata": {
    "execution": {
     "iopub.execute_input": "2022-07-12T18:20:36.659517Z",
     "iopub.status.busy": "2022-07-12T18:20:36.658716Z",
     "iopub.status.idle": "2022-07-12T18:20:36.665039Z",
     "shell.execute_reply": "2022-07-12T18:20:36.664167Z"
    },
    "id": "da0a5dd7",
    "papermill": {
     "duration": 0.039667,
     "end_time": "2022-07-12T18:20:36.667063",
     "exception": false,
     "start_time": "2022-07-12T18:20:36.627396",
     "status": "completed"
    },
    "tags": []
   },
   "outputs": [],
   "source": [
    "from sklearn.svm import SVC\n",
    "# Building a Support Vector Machine on train data\n",
    "svc_model = SVC(C= .1, gamma= 1, kernel='sigmoid', random_state=42)\n"
   ]
  },
  {
   "cell_type": "code",
   "execution_count": 40,
   "metadata": {
    "colab": {
     "base_uri": "https://localhost:8080/"
    },
    "execution": {
     "iopub.execute_input": "2022-07-12T18:20:36.728305Z",
     "iopub.status.busy": "2022-07-12T18:20:36.727993Z",
     "iopub.status.idle": "2022-07-12T18:20:39.348583Z",
     "shell.execute_reply": "2022-07-12T18:20:39.347671Z"
    },
    "id": "b2686254",
    "outputId": "ad65d02f-be96-48f3-e047-9dc52a32b922",
    "papermill": {
     "duration": 2.659379,
     "end_time": "2022-07-12T18:20:39.356333",
     "exception": false,
     "start_time": "2022-07-12T18:20:36.696954",
     "status": "completed"
    },
    "tags": []
   },
   "outputs": [
    {
     "data": {
      "text/plain": [
       "SVC(C=0.1, gamma=1, kernel='sigmoid', random_state=42)"
      ]
     },
     "execution_count": 40,
     "metadata": {},
     "output_type": "execute_result"
    }
   ],
   "source": [
    "svc_model.fit(X_train, y_train)"
   ]
  },
  {
   "cell_type": "code",
   "execution_count": 41,
   "metadata": {
    "colab": {
     "base_uri": "https://localhost:8080/"
    },
    "execution": {
     "iopub.execute_input": "2022-07-12T18:20:39.457615Z",
     "iopub.status.busy": "2022-07-12T18:20:39.457086Z",
     "iopub.status.idle": "2022-07-12T18:20:42.203286Z",
     "shell.execute_reply": "2022-07-12T18:20:42.202262Z"
    },
    "id": "7624cc29",
    "outputId": "dec5cd80-89b5-412f-ab1f-8e79af035316",
    "papermill": {
     "duration": 2.801187,
     "end_time": "2022-07-12T18:20:42.206072",
     "exception": false,
     "start_time": "2022-07-12T18:20:39.404885",
     "status": "completed"
    },
    "tags": []
   },
   "outputs": [
    {
     "name": "stdout",
     "output_type": "stream",
     "text": [
      "Accuracy of training data:  0.7096852008201664\n",
      "Accuracy of validation data:  0.701519536903039\n"
     ]
    }
   ],
   "source": [
    "prediction = svc_model .predict(X_test)\n",
    "# check the accuracy on the training set\n",
    "print('Accuracy of training data: ', svc_model.score(X_train, y_train))\n",
    "print('Accuracy of validation data: ',svc_model.score(X_test, y_test))"
   ]
  },
  {
   "cell_type": "code",
   "execution_count": 42,
   "metadata": {
    "colab": {
     "base_uri": "https://localhost:8080/"
    },
    "execution": {
     "iopub.execute_input": "2022-07-12T18:20:42.268435Z",
     "iopub.status.busy": "2022-07-12T18:20:42.267420Z",
     "iopub.status.idle": "2022-07-12T18:20:42.281959Z",
     "shell.execute_reply": "2022-07-12T18:20:42.280879Z"
    },
    "id": "1bc8642d",
    "outputId": "e5b891fa-3ded-4956-a4d0-aaa9b309c315",
    "papermill": {
     "duration": 0.048698,
     "end_time": "2022-07-12T18:20:42.284804",
     "exception": false,
     "start_time": "2022-07-12T18:20:42.236106",
     "status": "completed"
    },
    "tags": []
   },
   "outputs": [
    {
     "name": "stdout",
     "output_type": "stream",
     "text": [
      "              precision    recall  f1-score   support\n",
      "\n",
      "          -1       0.67      0.66      0.66      1236\n",
      "           1       0.73      0.74      0.73      1528\n",
      "\n",
      "    accuracy                           0.70      2764\n",
      "   macro avg       0.70      0.70      0.70      2764\n",
      "weighted avg       0.70      0.70      0.70      2764\n",
      "\n"
     ]
    }
   ],
   "source": [
    "from sklearn.metrics import confusion_matrix, classification_report\n",
    "# generating classification report\n",
    "print(classification_report(y_test, prediction))\n"
   ]
  },
  {
   "cell_type": "code",
   "execution_count": 43,
   "metadata": {
    "colab": {
     "base_uri": "https://localhost:8080/"
    },
    "execution": {
     "iopub.execute_input": "2022-07-12T18:20:42.348855Z",
     "iopub.status.busy": "2022-07-12T18:20:42.348520Z",
     "iopub.status.idle": "2022-07-12T18:20:42.358852Z",
     "shell.execute_reply": "2022-07-12T18:20:42.357830Z"
    },
    "id": "8e492f2e",
    "outputId": "0896adba-401b-4fa1-f92f-5cfded919e18",
    "papermill": {
     "duration": 0.045452,
     "end_time": "2022-07-12T18:20:42.361018",
     "exception": false,
     "start_time": "2022-07-12T18:20:42.315566",
     "status": "completed"
    },
    "tags": []
   },
   "outputs": [
    {
     "data": {
      "text/plain": [
       "array([[ 811,  425],\n",
       "       [ 400, 1128]], dtype=int64)"
      ]
     },
     "execution_count": 43,
     "metadata": {},
     "output_type": "execute_result"
    }
   ],
   "source": [
    "confusion_matrix(y_test, prediction)"
   ]
  },
  {
   "cell_type": "code",
   "execution_count": 44,
   "metadata": {
    "colab": {
     "base_uri": "https://localhost:8080/",
     "height": 282
    },
    "execution": {
     "iopub.execute_input": "2022-07-12T18:20:42.422053Z",
     "iopub.status.busy": "2022-07-12T18:20:42.421569Z",
     "iopub.status.idle": "2022-07-12T18:20:42.642688Z",
     "shell.execute_reply": "2022-07-12T18:20:42.641755Z"
    },
    "id": "9754d1d4",
    "outputId": "8e040386-b013-4e4d-e258-fcd585538e5a",
    "papermill": {
     "duration": 0.254156,
     "end_time": "2022-07-12T18:20:42.644702",
     "exception": false,
     "start_time": "2022-07-12T18:20:42.390546",
     "status": "completed"
    },
    "tags": []
   },
   "outputs": [
    {
     "data": {
      "text/plain": [
       "<AxesSubplot:>"
      ]
     },
     "execution_count": 44,
     "metadata": {},
     "output_type": "execute_result"
    },
    {
     "data": {
      "image/png": "[encoded data removed]",
      "text/plain": [
       "<Figure size 432x288 with 2 Axes>"
      ]
     },
     "metadata": {
      "needs_background": "light"
     },
     "output_type": "display_data"
    }
   ],
   "source": [
    "sns.heatmap(confusion_matrix(y_test, prediction), annot = True, fmt='0.0f')"
   ]
  },
  {
   "cell_type": "markdown",
   "metadata": {
    "id": "8a494751",
    "papermill": {
     "duration": 0.03102,
     "end_time": "2022-07-12T18:20:42.707459",
     "exception": false,
     "start_time": "2022-07-12T18:20:42.676439",
     "status": "completed"
    },
    "tags": []
   },
   "source": [
    "### K-nearest Neighbors"
   ]
  },
  {
   "cell_type": "code",
   "execution_count": 45,
   "metadata": {
    "execution": {
     "iopub.execute_input": "2022-07-12T18:20:42.769644Z",
     "iopub.status.busy": "2022-07-12T18:20:42.769299Z",
     "iopub.status.idle": "2022-07-12T18:20:42.773874Z",
     "shell.execute_reply": "2022-07-12T18:20:42.772786Z"
    },
    "id": "317dccce",
    "papermill": {
     "duration": 0.038257,
     "end_time": "2022-07-12T18:20:42.776315",
     "exception": false,
     "start_time": "2022-07-12T18:20:42.738058",
     "status": "completed"
    },
    "tags": []
   },
   "outputs": [],
   "source": [
    "from sklearn.neighbors import KNeighborsClassifier\n",
    "from sklearn.metrics import accuracy_score"
   ]
  },
  {
   "cell_type": "markdown",
   "metadata": {
    "id": "ac893502",
    "papermill": {
     "duration": 0.030734,
     "end_time": "2022-07-12T18:20:42.836832",
     "exception": false,
     "start_time": "2022-07-12T18:20:42.806098",
     "status": "completed"
    },
    "tags": []
   },
   "source": [
    "#### choosing the best values of k (neighbours)"
   ]
  },
  {
   "cell_type": "code",
   "execution_count": 46,
   "metadata": {
    "execution": {
     "iopub.execute_input": "2022-07-12T18:20:42.899905Z",
     "iopub.status.busy": "2022-07-12T18:20:42.899490Z",
     "iopub.status.idle": "2022-07-12T18:21:32.599550Z",
     "shell.execute_reply": "2022-07-12T18:21:32.598526Z"
    },
    "id": "80b18832",
    "papermill": {
     "duration": 49.73404,
     "end_time": "2022-07-12T18:21:32.602077",
     "exception": false,
     "start_time": "2022-07-12T18:20:42.868037",
     "status": "completed"
    },
    "tags": []
   },
   "outputs": [],
   "source": [
    "neighbour = []\n",
    "accuracy = []\n",
    "for k in range(1, 20):\n",
    "  k_near = KNeighborsClassifier(n_neighbors=k)\n",
    "  k_near.fit(X,y)\n",
    "  Y_pre_test = k_near.predict(X_test)\n",
    "  Y_pre_train = k_near.predict(X_train)\n",
    "  test_accurry = accuracy_score(Y_pre_test, y_test)\n",
    "  neighbour.append(k)\n",
    "  accuracy.append(test_accurry)"
   ]
  },
  {
   "cell_type": "code",
   "execution_count": 47,
   "metadata": {
    "colab": {
     "base_uri": "https://localhost:8080/",
     "height": 312
    },
    "execution": {
     "iopub.execute_input": "2022-07-12T18:21:32.665312Z",
     "iopub.status.busy": "2022-07-12T18:21:32.664937Z",
     "iopub.status.idle": "2022-07-12T18:21:32.839260Z",
     "shell.execute_reply": "2022-07-12T18:21:32.838324Z"
    },
    "id": "4a454f1f",
    "outputId": "b09b3e25-357d-4522-e07e-33a773442fd8",
    "papermill": {
     "duration": 0.207898,
     "end_time": "2022-07-12T18:21:32.841206",
     "exception": false,
     "start_time": "2022-07-12T18:21:32.633308",
     "status": "completed"
    },
    "tags": []
   },
   "outputs": [
    {
     "data": {
      "text/plain": [
       "Text(0, 0.5, 'accuracy')"
      ]
     },
     "execution_count": 47,
     "metadata": {},
     "output_type": "execute_result"
    },
    {
     "data": {
      "image/png": "[encoded data removed]",
      "text/plain": [
       "<Figure size 432x288 with 1 Axes>"
      ]
     },
     "metadata": {
      "needs_background": "light"
     },
     "output_type": "display_data"
    }
   ],
   "source": [
    "# plotting for n neighbour vs accuracy\n",
    "plt.plot(neighbour, accuracy)\n",
    "plt.title('n neighbour vs accuracy')\n",
    "plt.xlabel('n neighbour')\n",
    "plt.ylabel('accuracy')"
   ]
  },
  {
   "cell_type": "markdown",
   "metadata": {
    "id": "dead871c",
    "papermill": {
     "duration": 0.030581,
     "end_time": "2022-07-12T18:21:32.903299",
     "exception": false,
     "start_time": "2022-07-12T18:21:32.872718",
     "status": "completed"
    },
    "tags": []
   },
   "source": [
    "we can see the accuracy is highest for n_neighbours = 1"
   ]
  },
  {
   "cell_type": "markdown",
   "metadata": {
    "id": "15f47d2c",
    "papermill": {
     "duration": 0.030993,
     "end_time": "2022-07-12T18:21:32.965016",
     "exception": false,
     "start_time": "2022-07-12T18:21:32.934023",
     "status": "completed"
    },
    "tags": []
   },
   "source": [
    "#### KNN with n_neighbour = 1 "
   ]
  },
  {
   "cell_type": "code",
   "execution_count": 48,
   "metadata": {
    "colab": {
     "base_uri": "https://localhost:8080/"
    },
    "execution": {
     "iopub.execute_input": "2022-07-12T18:21:33.027918Z",
     "iopub.status.busy": "2022-07-12T18:21:33.027539Z",
     "iopub.status.idle": "2022-07-12T18:21:33.037526Z",
     "shell.execute_reply": "2022-07-12T18:21:33.036583Z"
    },
    "id": "92d90cf8",
    "outputId": "c8538c3a-6bbb-4d34-a617-b3c6be1d9d48",
    "papermill": {
     "duration": 0.044258,
     "end_time": "2022-07-12T18:21:33.039455",
     "exception": false,
     "start_time": "2022-07-12T18:21:32.995197",
     "status": "completed"
    },
    "tags": []
   },
   "outputs": [
    {
     "data": {
      "text/plain": [
       "KNeighborsClassifier(n_neighbors=1)"
      ]
     },
     "execution_count": 48,
     "metadata": {},
     "output_type": "execute_result"
    }
   ],
   "source": [
    "k_near = KNeighborsClassifier(n_neighbors=1)\n",
    "k_near.fit(X_train,y_train)"
   ]
  },
  {
   "cell_type": "code",
   "execution_count": 49,
   "metadata": {
    "execution": {
     "iopub.execute_input": "2022-07-12T18:21:33.102623Z",
     "iopub.status.busy": "2022-07-12T18:21:33.102266Z",
     "iopub.status.idle": "2022-07-12T18:21:34.351049Z",
     "shell.execute_reply": "2022-07-12T18:21:34.350082Z"
    },
    "id": "800144b6",
    "papermill": {
     "duration": 1.282924,
     "end_time": "2022-07-12T18:21:34.353388",
     "exception": false,
     "start_time": "2022-07-12T18:21:33.070464",
     "status": "completed"
    },
    "tags": []
   },
   "outputs": [],
   "source": [
    "Y_pre_test = k_near.predict(X_test)\n",
    "Y_pre_train = k_near.predict(X_train)"
   ]
  },
  {
   "cell_type": "code",
   "execution_count": 50,
   "metadata": {
    "colab": {
     "base_uri": "https://localhost:8080/"
    },
    "execution": {
     "iopub.execute_input": "2022-07-12T18:21:34.416826Z",
     "iopub.status.busy": "2022-07-12T18:21:34.416502Z",
     "iopub.status.idle": "2022-07-12T18:21:34.425389Z",
     "shell.execute_reply": "2022-07-12T18:21:34.424345Z"
    },
    "id": "ec666bc4",
    "outputId": "db65c7fb-397e-4574-c118-2b02e9946f79",
    "papermill": {
     "duration": 0.043744,
     "end_time": "2022-07-12T18:21:34.428328",
     "exception": false,
     "start_time": "2022-07-12T18:21:34.384584",
     "status": "completed"
    },
    "tags": []
   },
   "outputs": [
    {
     "name": "stdout",
     "output_type": "stream",
     "text": [
      "Accuracy for train dataset for K-neariest :  0.9831142202388131\n",
      "Accuracy for test dataset for K-neariest :  0.9493487698986975\n"
     ]
    }
   ],
   "source": [
    "from sklearn.metrics import accuracy_score\n",
    "train_accurry = accuracy_score(Y_pre_train, y_train)\n",
    "test_accurry = accuracy_score(Y_pre_test, y_test)\n",
    "print('Accuracy for train dataset for K-neariest : ', train_accurry)\n",
    "print('Accuracy for test dataset for K-neariest : ', test_accurry)"
   ]
  },
  {
   "cell_type": "code",
   "execution_count": 51,
   "metadata": {
    "colab": {
     "base_uri": "https://localhost:8080/"
    },
    "execution": {
     "iopub.execute_input": "2022-07-12T18:21:34.492787Z",
     "iopub.status.busy": "2022-07-12T18:21:34.492478Z",
     "iopub.status.idle": "2022-07-12T18:21:34.507466Z",
     "shell.execute_reply": "2022-07-12T18:21:34.506340Z"
    },
    "id": "0ed65e4d",
    "outputId": "9eedc103-34cb-4f86-b9ce-2cb31061dac0",
    "papermill": {
     "duration": 0.050133,
     "end_time": "2022-07-12T18:21:34.510316",
     "exception": false,
     "start_time": "2022-07-12T18:21:34.460183",
     "status": "completed"
    },
    "tags": []
   },
   "outputs": [
    {
     "name": "stdout",
     "output_type": "stream",
     "text": [
      "              precision    recall  f1-score   support\n",
      "\n",
      "          -1       0.93      0.96      0.94      1236\n",
      "           1       0.96      0.94      0.95      1528\n",
      "\n",
      "    accuracy                           0.95      2764\n",
      "   macro avg       0.95      0.95      0.95      2764\n",
      "weighted avg       0.95      0.95      0.95      2764\n",
      "\n"
     ]
    }
   ],
   "source": [
    "from sklearn.metrics import confusion_matrix, classification_report\n",
    "print(classification_report(y_test, Y_pre_test ))"
   ]
  },
  {
   "cell_type": "code",
   "execution_count": 52,
   "metadata": {
    "colab": {
     "base_uri": "https://localhost:8080/"
    },
    "execution": {
     "iopub.execute_input": "2022-07-12T18:21:34.574219Z",
     "iopub.status.busy": "2022-07-12T18:21:34.573697Z",
     "iopub.status.idle": "2022-07-12T18:21:34.583987Z",
     "shell.execute_reply": "2022-07-12T18:21:34.582986Z"
    },
    "id": "8dfb8875",
    "outputId": "48b7d39e-2c5a-463e-982a-5826dae80f07",
    "papermill": {
     "duration": 0.043967,
     "end_time": "2022-07-12T18:21:34.585950",
     "exception": false,
     "start_time": "2022-07-12T18:21:34.541983",
     "status": "completed"
    },
    "tags": []
   },
   "outputs": [
    {
     "data": {
      "text/plain": [
       "array([[1181,   55],\n",
       "       [  85, 1443]], dtype=int64)"
      ]
     },
     "execution_count": 52,
     "metadata": {},
     "output_type": "execute_result"
    }
   ],
   "source": [
    "confusion_matrix(y_test, Y_pre_test )"
   ]
  },
  {
   "cell_type": "code",
   "execution_count": 53,
   "metadata": {
    "colab": {
     "base_uri": "https://localhost:8080/",
     "height": 282
    },
    "execution": {
     "iopub.execute_input": "2022-07-12T18:21:34.650011Z",
     "iopub.status.busy": "2022-07-12T18:21:34.649187Z",
     "iopub.status.idle": "2022-07-12T18:21:34.850726Z",
     "shell.execute_reply": "2022-07-12T18:21:34.849756Z"
    },
    "id": "fde444a0",
    "outputId": "7614175d-e43c-4c7b-ae27-10273caac42d",
    "papermill": {
     "duration": 0.236166,
     "end_time": "2022-07-12T18:21:34.852943",
     "exception": false,
     "start_time": "2022-07-12T18:21:34.616777",
     "status": "completed"
    },
    "tags": []
   },
   "outputs": [
    {
     "data": {
      "text/plain": [
       "<AxesSubplot:>"
      ]
     },
     "execution_count": 53,
     "metadata": {},
     "output_type": "execute_result"
    },
    {
     "data": {
      "image/png": "[encoded data removed]",
      "text/plain": [
       "<Figure size 432x288 with 2 Axes>"
      ]
     },
     "metadata": {
      "needs_background": "light"
     },
     "output_type": "display_data"
    }
   ],
   "source": [
    "sns.heatmap(confusion_matrix(y_test, Y_pre_test), annot = True, fmt='0.0f')"
   ]
  },
  {
   "cell_type": "markdown",
   "metadata": {
    "id": "28a13806",
    "papermill": {
     "duration": 0.031591,
     "end_time": "2022-07-12T18:21:34.915776",
     "exception": false,
     "start_time": "2022-07-12T18:21:34.884185",
     "status": "completed"
    },
    "tags": []
   },
   "source": [
    "### Logistic Regression"
   ]
  },
  {
   "cell_type": "code",
   "execution_count": 54,
   "metadata": {
    "execution": {
     "iopub.execute_input": "2022-07-12T18:21:34.982323Z",
     "iopub.status.busy": "2022-07-12T18:21:34.981984Z",
     "iopub.status.idle": "2022-07-12T18:21:34.986714Z",
     "shell.execute_reply": "2022-07-12T18:21:34.985804Z"
    },
    "id": "76717f70",
    "papermill": {
     "duration": 0.041713,
     "end_time": "2022-07-12T18:21:34.988687",
     "exception": false,
     "start_time": "2022-07-12T18:21:34.946974",
     "status": "completed"
    },
    "tags": []
   },
   "outputs": [],
   "source": [
    "from sklearn.linear_model import LogisticRegression"
   ]
  },
  {
   "cell_type": "code",
   "execution_count": 55,
   "metadata": {
    "colab": {
     "base_uri": "https://localhost:8080/"
    },
    "execution": {
     "iopub.execute_input": "2022-07-12T18:21:35.053995Z",
     "iopub.status.busy": "2022-07-12T18:21:35.053125Z",
     "iopub.status.idle": "2022-07-12T18:21:35.119254Z",
     "shell.execute_reply": "2022-07-12T18:21:35.118246Z"
    },
    "id": "9d71c27d",
    "outputId": "2f171cc6-0853-481b-b58b-d0923a3d9ba4",
    "papermill": {
     "duration": 0.101094,
     "end_time": "2022-07-12T18:21:35.121620",
     "exception": false,
     "start_time": "2022-07-12T18:21:35.020526",
     "status": "completed"
    },
    "tags": []
   },
   "outputs": [
    {
     "data": {
      "text/plain": [
       "LogisticRegression(random_state=0)"
      ]
     },
     "execution_count": 55,
     "metadata": {},
     "output_type": "execute_result"
    }
   ],
   "source": [
    "lgr = LogisticRegression(random_state=0)\n",
    "lgr.fit(X_train,y_train)"
   ]
  },
  {
   "cell_type": "code",
   "execution_count": null,
   "metadata": {
    "execution": {
     "iopub.execute_input": "2022-07-12T18:21:35.242199Z",
     "iopub.status.busy": "2022-07-12T18:21:35.241663Z",
     "iopub.status.idle": "2022-07-12T18:21:35.255539Z",
     "shell.execute_reply": "2022-07-12T18:21:35.254510Z"
    },
    "id": "197cfdd6",
    "papermill": {
     "duration": 0.077764,
     "end_time": "2022-07-12T18:21:35.258253",
     "exception": false,
     "start_time": "2022-07-12T18:21:35.180489",
     "status": "completed"
    },
    "tags": []
   },
   "outputs": [],
   "source": [
    "y_pre_test = lgr.predict(X_test)\n",
    "y_pre_train = lgr.predict(X_train)"
   ]
  },
  {
   "cell_type": "code",
   "execution_count": null,
   "metadata": {
    "colab": {
     "base_uri": "https://localhost:8080/"
    },
    "execution": {
     "iopub.execute_input": "2022-07-12T18:21:35.379625Z",
     "iopub.status.busy": "2022-07-12T18:21:35.379153Z",
     "iopub.status.idle": "2022-07-12T18:21:35.389257Z",
     "shell.execute_reply": "2022-07-12T18:21:35.387914Z"
    },
    "id": "8c7bebe4",
    "outputId": "99dcba80-db32-49eb-8224-1dffd0dbda94",
    "papermill": {
     "duration": 0.073621,
     "end_time": "2022-07-12T18:21:35.391767",
     "exception": false,
     "start_time": "2022-07-12T18:21:35.318146",
     "status": "completed"
    },
    "tags": []
   },
   "outputs": [
    {
     "name": "stdout",
     "output_type": "stream",
     "text": [
      "Accuracy for train dataset for logistic reg :  0.9272705343143167\n",
      "Accuracy for test dataset for logistic reg :  0.9218523878437048\n"
     ]
    }
   ],
   "source": [
    "from sklearn.metrics import accuracy_score\n",
    "train_accurry = accuracy_score(y_pre_train, y_train)\n",
    "test_accurry = accuracy_score(y_pre_test, y_test)\n",
    "print('Accuracy for train dataset for logistic reg : ', train_accurry)\n",
    "print('Accuracy for test dataset for logistic reg : ', test_accurry)"
   ]
  },
  {
   "cell_type": "code",
   "execution_count": null,
   "metadata": {
    "colab": {
     "base_uri": "https://localhost:8080/"
    },
    "execution": {
     "iopub.execute_input": "2022-07-12T18:21:35.457345Z",
     "iopub.status.busy": "2022-07-12T18:21:35.457016Z",
     "iopub.status.idle": "2022-07-12T18:21:35.471434Z",
     "shell.execute_reply": "2022-07-12T18:21:35.469968Z"
    },
    "id": "616f03c8",
    "outputId": "5f7ba3bc-a7e5-4571-ed74-cbd78def7fab",
    "papermill": {
     "duration": 0.050645,
     "end_time": "2022-07-12T18:21:35.474233",
     "exception": false,
     "start_time": "2022-07-12T18:21:35.423588",
     "status": "completed"
    },
    "tags": []
   },
   "outputs": [
    {
     "name": "stdout",
     "output_type": "stream",
     "text": [
      "              precision    recall  f1-score   support\n",
      "\n",
      "          -1       0.93      0.89      0.91      1236\n",
      "           1       0.91      0.95      0.93      1528\n",
      "\n",
      "    accuracy                           0.92      2764\n",
      "   macro avg       0.92      0.92      0.92      2764\n",
      "weighted avg       0.92      0.92      0.92      2764\n",
      "\n"
     ]
    }
   ],
   "source": [
    "from sklearn.metrics import confusion_matrix, classification_report\n",
    "print(classification_report(y_test, y_pre_test ))\n"
   ]
  },
  {
   "cell_type": "code",
   "execution_count": null,
   "metadata": {
    "colab": {
     "base_uri": "https://localhost:8080/"
    },
    "execution": {
     "iopub.execute_input": "2022-07-12T18:21:35.541898Z",
     "iopub.status.busy": "2022-07-12T18:21:35.541556Z",
     "iopub.status.idle": "2022-07-12T18:21:35.551869Z",
     "shell.execute_reply": "2022-07-12T18:21:35.550901Z"
    },
    "id": "ea1021ef",
    "outputId": "19327ade-4539-4d95-a62d-a310f282d0be",
    "papermill": {
     "duration": 0.046209,
     "end_time": "2022-07-12T18:21:35.554061",
     "exception": false,
     "start_time": "2022-07-12T18:21:35.507852",
     "status": "completed"
    },
    "tags": []
   },
   "outputs": [
    {
     "data": {
      "text/plain": [
       "array([[1098,  138],\n",
       "       [  78, 1450]])"
      ]
     },
     "execution_count": 60,
     "metadata": {},
     "output_type": "execute_result"
    }
   ],
   "source": [
    "confusion_matrix(y_test, y_pre_test )"
   ]
  },
  {
   "cell_type": "code",
   "execution_count": null,
   "metadata": {
    "colab": {
     "base_uri": "https://localhost:8080/",
     "height": 282
    },
    "execution": {
     "iopub.execute_input": "2022-07-12T18:21:35.618766Z",
     "iopub.status.busy": "2022-07-12T18:21:35.617765Z",
     "iopub.status.idle": "2022-07-12T18:21:35.821218Z",
     "shell.execute_reply": "2022-07-12T18:21:35.820293Z"
    },
    "id": "b6ee92cd",
    "outputId": "f9e3a208-c75f-4ae0-e93c-f9ede463fc9f",
    "papermill": {
     "duration": 0.237925,
     "end_time": "2022-07-12T18:21:35.823175",
     "exception": false,
     "start_time": "2022-07-12T18:21:35.585250",
     "status": "completed"
    },
    "tags": []
   },
   "outputs": [
    {
     "data": {
      "text/plain": [
       "<matplotlib.axes._subplots.AxesSubplot at 0x7fd79dfc3ac0>"
      ]
     },
     "execution_count": 61,
     "metadata": {},
     "output_type": "execute_result"
    },
    {
     "data": {
      "image/png": "[encoded data removed]",
      "text/plain": [
       "<Figure size 432x288 with 2 Axes>"
      ]
     },
     "metadata": {
      "needs_background": "light"
     },
     "output_type": "display_data"
    }
   ],
   "source": [
    "sns.heatmap(confusion_matrix(y_test,y_pre_test), annot = True, fmt='0.0f')"
   ]
  },
  {
   "cell_type": "markdown",
   "metadata": {
    "id": "e1cfd823",
    "papermill": {
     "duration": 0.031341,
     "end_time": "2022-07-12T18:21:35.888042",
     "exception": false,
     "start_time": "2022-07-12T18:21:35.856701",
     "status": "completed"
    },
    "tags": []
   },
   "source": [
    "### Naive Bayes"
   ]
  },
  {
   "cell_type": "code",
   "execution_count": null,
   "metadata": {
    "execution": {
     "iopub.execute_input": "2022-07-12T18:21:35.954320Z",
     "iopub.status.busy": "2022-07-12T18:21:35.953388Z",
     "iopub.status.idle": "2022-07-12T18:21:35.960744Z",
     "shell.execute_reply": "2022-07-12T18:21:35.959884Z"
    },
    "id": "4ba797a2",
    "papermill": {
     "duration": 0.042135,
     "end_time": "2022-07-12T18:21:35.962709",
     "exception": false,
     "start_time": "2022-07-12T18:21:35.920574",
     "status": "completed"
    },
    "tags": []
   },
   "outputs": [],
   "source": [
    "from sklearn.naive_bayes import GaussianNB, MultinomialNB, CategoricalNB, BernoulliNB, ComplementNB"
   ]
  },
  {
   "cell_type": "code",
   "execution_count": null,
   "metadata": {
    "colab": {
     "base_uri": "https://localhost:8080/"
    },
    "execution": {
     "iopub.execute_input": "2022-07-12T18:21:36.084634Z",
     "iopub.status.busy": "2022-07-12T18:21:36.084172Z",
     "iopub.status.idle": "2022-07-12T18:21:36.109383Z",
     "shell.execute_reply": "2022-07-12T18:21:36.108301Z"
    },
    "id": "4017a357",
    "outputId": "5422979d-7b92-4090-97f1-edd4581a5a24",
    "papermill": {
     "duration": 0.089035,
     "end_time": "2022-07-12T18:21:36.112406",
     "exception": false,
     "start_time": "2022-07-12T18:21:36.023371",
     "status": "completed"
    },
    "tags": []
   },
   "outputs": [
    {
     "data": {
      "text/plain": [
       "BernoulliNB()"
      ]
     },
     "execution_count": 63,
     "metadata": {},
     "output_type": "execute_result"
    }
   ],
   "source": [
    "# Bernoullis Naive bayes classifier\n",
    "nvb = BernoulliNB()\n",
    "nvb.fit(X_train,y_train)"
   ]
  },
  {
   "cell_type": "code",
   "execution_count": null,
   "metadata": {
    "execution": {
     "iopub.execute_input": "2022-07-12T18:21:36.214886Z",
     "iopub.status.busy": "2022-07-12T18:21:36.214311Z",
     "iopub.status.idle": "2022-07-12T18:21:36.237342Z",
     "shell.execute_reply": "2022-07-12T18:21:36.236442Z"
    },
    "id": "8f42fc7a",
    "papermill": {
     "duration": 0.078358,
     "end_time": "2022-07-12T18:21:36.240275",
     "exception": false,
     "start_time": "2022-07-12T18:21:36.161917",
     "status": "completed"
    },
    "tags": []
   },
   "outputs": [],
   "source": [
    "y_pre_test = nvb.predict(X_test)\n",
    "y_pre_train = nvb.predict(X_train)"
   ]
  },
  {
   "cell_type": "code",
   "execution_count": null,
   "metadata": {
    "colab": {
     "base_uri": "https://localhost:8080/"
    },
    "execution": {
     "iopub.execute_input": "2022-07-12T18:21:36.405433Z",
     "iopub.status.busy": "2022-07-12T18:21:36.404896Z",
     "iopub.status.idle": "2022-07-12T18:21:36.416398Z",
     "shell.execute_reply": "2022-07-12T18:21:36.415544Z"
    },
    "id": "1c5911be",
    "outputId": "46648ab4-e1f8-4db0-dbe8-aa16a07873a1",
    "papermill": {
     "duration": 0.082122,
     "end_time": "2022-07-12T18:21:36.421736",
     "exception": false,
     "start_time": "2022-07-12T18:21:36.339614",
     "status": "completed"
    },
    "tags": []
   },
   "outputs": [
    {
     "name": "stdout",
     "output_type": "stream",
     "text": [
      "Accuracy for train dataset for naive bayes  reg :  0.911590881678929\n",
      "Accuracy for test dataset for naive bayes reg :  0.9059334298118669\n"
     ]
    }
   ],
   "source": [
    "from sklearn.metrics import accuracy_score\n",
    "train_accurry = accuracy_score(y_pre_train, y_train)\n",
    "test_accurry = accuracy_score(y_pre_test, y_test)\n",
    "print('Accuracy for train dataset for naive bayes  reg : ', train_accurry)\n",
    "print('Accuracy for test dataset for naive bayes reg : ', test_accurry)"
   ]
  },
  {
   "cell_type": "code",
   "execution_count": null,
   "metadata": {
    "colab": {
     "base_uri": "https://localhost:8080/"
    },
    "execution": {
     "iopub.execute_input": "2022-07-12T18:21:36.527467Z",
     "iopub.status.busy": "2022-07-12T18:21:36.527066Z",
     "iopub.status.idle": "2022-07-12T18:21:36.548191Z",
     "shell.execute_reply": "2022-07-12T18:21:36.547154Z"
    },
    "id": "ed867fd5",
    "outputId": "3bd89e34-1ecd-4c65-df9a-22a2d7b08cff",
    "papermill": {
     "duration": 0.076024,
     "end_time": "2022-07-12T18:21:36.550743",
     "exception": false,
     "start_time": "2022-07-12T18:21:36.474719",
     "status": "completed"
    },
    "tags": []
   },
   "outputs": [
    {
     "name": "stdout",
     "output_type": "stream",
     "text": [
      "              precision    recall  f1-score   support\n",
      "\n",
      "          -1       0.90      0.89      0.89      1236\n",
      "           1       0.91      0.92      0.92      1528\n",
      "\n",
      "    accuracy                           0.91      2764\n",
      "   macro avg       0.91      0.90      0.90      2764\n",
      "weighted avg       0.91      0.91      0.91      2764\n",
      "\n"
     ]
    }
   ],
   "source": [
    "from sklearn.metrics import confusion_matrix, classification_report\n",
    "print(classification_report(y_test, y_pre_test ))\n"
   ]
  },
  {
   "cell_type": "code",
   "execution_count": null,
   "metadata": {
    "colab": {
     "base_uri": "https://localhost:8080/"
    },
    "execution": {
     "iopub.execute_input": "2022-07-12T18:21:36.620227Z",
     "iopub.status.busy": "2022-07-12T18:21:36.619359Z",
     "iopub.status.idle": "2022-07-12T18:21:36.629409Z",
     "shell.execute_reply": "2022-07-12T18:21:36.628401Z"
    },
    "id": "2eb57f9f",
    "outputId": "ca057bf5-039a-4102-e720-aeb0a0a945a2",
    "papermill": {
     "duration": 0.045264,
     "end_time": "2022-07-12T18:21:36.631390",
     "exception": false,
     "start_time": "2022-07-12T18:21:36.586126",
     "status": "completed"
    },
    "tags": []
   },
   "outputs": [
    {
     "data": {
      "text/plain": [
       "array([[1096,  140],\n",
       "       [ 120, 1408]])"
      ]
     },
     "execution_count": 67,
     "metadata": {},
     "output_type": "execute_result"
    }
   ],
   "source": [
    "confusion_matrix(y_test, y_pre_test)"
   ]
  },
  {
   "cell_type": "code",
   "execution_count": null,
   "metadata": {
    "colab": {
     "base_uri": "https://localhost:8080/",
     "height": 285
    },
    "execution": {
     "iopub.execute_input": "2022-07-12T18:21:36.699125Z",
     "iopub.status.busy": "2022-07-12T18:21:36.697582Z",
     "iopub.status.idle": "2022-07-12T18:21:36.897692Z",
     "shell.execute_reply": "2022-07-12T18:21:36.896788Z"
    },
    "id": "20ce1a89",
    "outputId": "9a27b3cc-089c-45a7-f030-27bc5b0ed9a4",
    "papermill": {
     "duration": 0.23562,
     "end_time": "2022-07-12T18:21:36.899815",
     "exception": false,
     "start_time": "2022-07-12T18:21:36.664195",
     "status": "completed"
    },
    "tags": []
   },
   "outputs": [
    {
     "data": {
      "text/plain": [
       "<matplotlib.axes._subplots.AxesSubplot at 0x7fd79df5d070>"
      ]
     },
     "execution_count": 68,
     "metadata": {},
     "output_type": "execute_result"
    },
    {
     "data": {
      "image/png": "[encoded data removed]",
      "text/plain": [
       "<Figure size 432x288 with 2 Axes>"
      ]
     },
     "metadata": {
      "needs_background": "light"
     },
     "output_type": "display_data"
    }
   ],
   "source": [
    "sns.heatmap(confusion_matrix(y_test, y_pre_test), annot = True, fmt='0.0f')"
   ]
  },
  {
   "cell_type": "markdown",
   "metadata": {
    "id": "138b014c",
    "papermill": {
     "duration": 0.032756,
     "end_time": "2022-07-12T18:21:36.965294",
     "exception": false,
     "start_time": "2022-07-12T18:21:36.932538",
     "status": "completed"
    },
    "tags": []
   },
   "source": [
    "### Adaboost"
   ]
  },
  {
   "cell_type": "code",
   "execution_count": null,
   "metadata": {
    "execution": {
     "iopub.execute_input": "2022-07-12T18:21:37.033132Z",
     "iopub.status.busy": "2022-07-12T18:21:37.032776Z",
     "iopub.status.idle": "2022-07-12T18:21:37.557048Z",
     "shell.execute_reply": "2022-07-12T18:21:37.556103Z"
    },
    "id": "4b2a9808",
    "papermill": {
     "duration": 0.561876,
     "end_time": "2022-07-12T18:21:37.559771",
     "exception": false,
     "start_time": "2022-07-12T18:21:36.997895",
     "status": "completed"
    },
    "tags": []
   },
   "outputs": [],
   "source": [
    "from sklearn.ensemble import AdaBoostClassifier\n",
    "\n",
    "# Create Decision Tree classifer object\n",
    "clf = AdaBoostClassifier(n_estimators=100, random_state=42)\n",
    "\n",
    "# Train Decision Tree Classifer\n",
    "clf.fit(X_train,y_train)\n",
    "\n",
    "#Predict the response for test dataset\n",
    "y_pred = clf.predict(X_test)"
   ]
  },
  {
   "cell_type": "code",
   "execution_count": null,
   "metadata": {
    "colab": {
     "base_uri": "https://localhost:8080/"
    },
    "execution": {
     "iopub.execute_input": "2022-07-12T18:21:37.626887Z",
     "iopub.status.busy": "2022-07-12T18:21:37.626541Z",
     "iopub.status.idle": "2022-07-12T18:21:37.745951Z",
     "shell.execute_reply": "2022-07-12T18:21:37.744867Z"
    },
    "id": "9a899578",
    "outputId": "1cc8d10f-0659-4163-cd5d-0e89ad27d0c4",
    "papermill": {
     "duration": 0.156083,
     "end_time": "2022-07-12T18:21:37.748373",
     "exception": false,
     "start_time": "2022-07-12T18:21:37.592290",
     "status": "completed"
    },
    "tags": []
   },
   "outputs": [
    {
     "data": {
      "text/plain": [
       "0.9342660716439513"
      ]
     },
     "execution_count": 70,
     "metadata": {},
     "output_type": "execute_result"
    }
   ],
   "source": [
    "clf.score(X_train, y_train)"
   ]
  },
  {
   "cell_type": "code",
   "execution_count": null,
   "metadata": {
    "colab": {
     "base_uri": "https://localhost:8080/"
    },
    "execution": {
     "iopub.execute_input": "2022-07-12T18:21:37.874526Z",
     "iopub.status.busy": "2022-07-12T18:21:37.873422Z",
     "iopub.status.idle": "2022-07-12T18:21:37.881831Z",
     "shell.execute_reply": "2022-07-12T18:21:37.880600Z"
    },
    "id": "7ebc4cd3",
    "outputId": "feb5ddde-b2b4-4d8a-8e89-0ab73aaf04f8",
    "papermill": {
     "duration": 0.102955,
     "end_time": "2022-07-12T18:21:37.884344",
     "exception": false,
     "start_time": "2022-07-12T18:21:37.781389",
     "status": "completed"
    },
    "tags": []
   },
   "outputs": [
    {
     "name": "stdout",
     "output_type": "stream",
     "text": [
      "Accuracy: 0.9290882778581766\n"
     ]
    }
   ],
   "source": [
    "# Model Accuracy, how often is the classifier correct?\n",
    "print(\"Accuracy:\",metrics.accuracy_score(y_test, y_pred))"
   ]
  },
  {
   "cell_type": "code",
   "execution_count": null,
   "metadata": {
    "colab": {
     "base_uri": "https://localhost:8080/"
    },
    "execution": {
     "iopub.execute_input": "2022-07-12T18:21:37.951588Z",
     "iopub.status.busy": "2022-07-12T18:21:37.951270Z",
     "iopub.status.idle": "2022-07-12T18:21:37.968120Z",
     "shell.execute_reply": "2022-07-12T18:21:37.964880Z"
    },
    "id": "f6a948d4",
    "outputId": "5e6a13ab-af50-40e9-b148-dab1cae9343c",
    "papermill": {
     "duration": 0.055127,
     "end_time": "2022-07-12T18:21:37.972922",
     "exception": false,
     "start_time": "2022-07-12T18:21:37.917795",
     "status": "completed"
    },
    "tags": []
   },
   "outputs": [
    {
     "name": "stdout",
     "output_type": "stream",
     "text": [
      "              precision    recall  f1-score   support\n",
      "\n",
      "          -1       0.94      0.90      0.92      1236\n",
      "           1       0.92      0.95      0.94      1528\n",
      "\n",
      "    accuracy                           0.93      2764\n",
      "   macro avg       0.93      0.93      0.93      2764\n",
      "weighted avg       0.93      0.93      0.93      2764\n",
      "\n"
     ]
    }
   ],
   "source": [
    "from sklearn.metrics import confusion_matrix, classification_report\n",
    "print(classification_report(y_test, y_pred))"
   ]
  },
  {
   "cell_type": "code",
   "execution_count": null,
   "metadata": {
    "colab": {
     "base_uri": "https://localhost:8080/",
     "height": 282
    },
    "execution": {
     "iopub.execute_input": "2022-07-12T18:21:38.047046Z",
     "iopub.status.busy": "2022-07-12T18:21:38.046004Z",
     "iopub.status.idle": "2022-07-12T18:21:38.254879Z",
     "shell.execute_reply": "2022-07-12T18:21:38.253900Z"
    },
    "id": "ce5d8836",
    "outputId": "d8b56a26-fd1d-49c3-d004-9f74c9eef0a0",
    "papermill": {
     "duration": 0.245581,
     "end_time": "2022-07-12T18:21:38.256951",
     "exception": false,
     "start_time": "2022-07-12T18:21:38.011370",
     "status": "completed"
    },
    "tags": []
   },
   "outputs": [
    {
     "data": {
      "text/plain": [
       "<matplotlib.axes._subplots.AxesSubplot at 0x7fd79deea0d0>"
      ]
     },
     "execution_count": 73,
     "metadata": {},
     "output_type": "execute_result"
    },
    {
     "data": {
      "image/png": "[encoded data removed]",
      "text/plain": [
       "<Figure size 432x288 with 2 Axes>"
      ]
     },
     "metadata": {
      "needs_background": "light"
     },
     "output_type": "display_data"
    }
   ],
   "source": [
    "confusion_matrix(y_test, y_pred)\n",
    "sns.heatmap(confusion_matrix(y_test, y_pred), annot = True, fmt='0.0f')"
   ]
  },
  {
   "cell_type": "markdown",
   "metadata": {
    "id": "631e2936",
    "papermill": {
     "duration": 0.032499,
     "end_time": "2022-07-12T18:21:38.322530",
     "exception": false,
     "start_time": "2022-07-12T18:21:38.290031",
     "status": "completed"
    },
    "tags": []
   },
   "source": [
    "**<H2>Hybrid Ensembler</h2>**"
   ]
  },
  {
   "cell_type": "markdown",
   "metadata": {
    "id": "0c99f875",
    "papermill": {
     "duration": 0.032571,
     "end_time": "2022-07-12T18:21:38.389131",
     "exception": false,
     "start_time": "2022-07-12T18:21:38.356560",
     "status": "completed"
    },
    "tags": []
   },
   "source": [
    "**Ensembler method used** - **Max voting:** It is mainly used for classification problems. The method consists of building multiple models independently and getting their individual output called ‘vote’. The class with maximum votes is returned as output. "
   ]
  },
  {
   "cell_type": "code",
   "execution_count": null,
   "metadata": {
    "execution": {
     "iopub.execute_input": "2022-07-12T18:21:38.456463Z",
     "iopub.status.busy": "2022-07-12T18:21:38.456087Z",
     "iopub.status.idle": "2022-07-12T18:21:38.461000Z",
     "shell.execute_reply": "2022-07-12T18:21:38.459977Z"
    },
    "id": "9675db86",
    "papermill": {
     "duration": 0.041531,
     "end_time": "2022-07-12T18:21:38.463297",
     "exception": false,
     "start_time": "2022-07-12T18:21:38.421766",
     "status": "completed"
    },
    "tags": []
   },
   "outputs": [],
   "source": [
    "# importing voting classifier\n",
    "from sklearn.ensemble import VotingClassifier"
   ]
  },
  {
   "cell_type": "code",
   "execution_count": null,
   "metadata": {
    "execution": {
     "iopub.execute_input": "2022-07-12T18:21:38.530688Z",
     "iopub.status.busy": "2022-07-12T18:21:38.530361Z",
     "iopub.status.idle": "2022-07-12T18:21:38.536483Z",
     "shell.execute_reply": "2022-07-12T18:21:38.535474Z"
    },
    "id": "7365df2a",
    "papermill": {
     "duration": 0.042389,
     "end_time": "2022-07-12T18:21:38.538742",
     "exception": false,
     "start_time": "2022-07-12T18:21:38.496353",
     "status": "completed"
    },
    "tags": []
   },
   "outputs": [],
   "source": [
    "model_1 = RandomForestClassifier(n_estimators=100)\n",
    "model_2 = KNeighborsClassifier(n_neighbors=1)\n",
    "model_3 = LogisticRegression(random_state=0)\n",
    "model_4 = BernoulliNB()\n",
    "model_5 = DecisionTreeClassifier()\n",
    "ensemble = VotingClassifier(estimators=[('RandomForest', model_1), ('KNN', model_2), ('LogisticRegression', model_3), ('NaiveBayes', model_4),\n",
    "                                        ('DT', model_5)], voting='hard')"
   ]
  },
  {
   "cell_type": "code",
   "execution_count": null,
   "metadata": {
    "execution": {
     "iopub.execute_input": "2022-07-12T18:21:38.606032Z",
     "iopub.status.busy": "2022-07-12T18:21:38.605701Z",
     "iopub.status.idle": "2022-07-12T18:21:40.763816Z",
     "shell.execute_reply": "2022-07-12T18:21:40.762595Z"
    },
    "id": "c7f54c15",
    "papermill": {
     "duration": 2.19534,
     "end_time": "2022-07-12T18:21:40.767216",
     "exception": false,
     "start_time": "2022-07-12T18:21:38.571876",
     "status": "completed"
    },
    "tags": []
   },
   "outputs": [],
   "source": [
    "ensemble.fit(X_train, y_train)\n",
    "y_pred_test = ensemble.predict(X_test)\n",
    "y_pred_train = ensemble.predict(X_train)"
   ]
  },
  {
   "cell_type": "code",
   "execution_count": null,
   "metadata": {
    "colab": {
     "base_uri": "https://localhost:8080/"
    },
    "execution": {
     "iopub.execute_input": "2022-07-12T18:21:40.845216Z",
     "iopub.status.busy": "2022-07-12T18:21:40.844865Z",
     "iopub.status.idle": "2022-07-12T18:21:40.852774Z",
     "shell.execute_reply": "2022-07-12T18:21:40.851858Z"
    },
    "id": "d0eeaffd",
    "outputId": "b4fecd32-1753-4e8b-ae0e-edfd14243f66",
    "papermill": {
     "duration": 0.045867,
     "end_time": "2022-07-12T18:21:40.855238",
     "exception": false,
     "start_time": "2022-07-12T18:21:40.809371",
     "status": "completed"
    },
    "tags": []
   },
   "outputs": [
    {
     "name": "stdout",
     "output_type": "stream",
     "text": [
      "Accuracy for train dataset for naive bayes  reg :  0.9863707634784706\n",
      "Accuracy for test dataset for naive bayes reg :  0.9627351664254703\n"
     ]
    }
   ],
   "source": [
    "from sklearn.metrics import accuracy_score\n",
    "train_accurry = accuracy_score(y_pred_train, y_train)\n",
    "test_accurry = accuracy_score(y_pred_test, y_test)\n",
    "print('Accuracy for train dataset for naive bayes  reg : ', train_accurry)\n",
    "print('Accuracy for test dataset for naive bayes reg : ', test_accurry)"
   ]
  },
  {
   "cell_type": "code",
   "execution_count": null,
   "metadata": {
    "id": "sYQSq9oVjTm8"
   },
   "outputs": [],
   "source": []
  }
 ],
 "metadata": {
  "colab": {
   "provenance": []
  },
  "kernelspec": {
   "display_name": "Python 3",
   "language": "python",
   "name": "python3"
  },
  "language_info": {
   "codemirror_mode": {
    "name": "ipython",
    "version": 3
   },
   "file_extension": ".py",
   "mimetype": "text/x-python",
   "name": "python",
   "nbconvert_exporter": "python",
   "pygments_lexer": "ipython3",
   "version": "3.8.5"
  },
  "papermill": {
   "default_parameters": {},
   "duration": 82.364976,
   "end_time": "2022-07-12T18:21:41.610789",
   "environment_variables": {},
   "exception": null,
   "input_path": "__notebook__.ipynb",
   "output_path": "__notebook__.ipynb",
   "parameters": {},
   "start_time": "2022-07-12T18:20:19.245813",
   "version": "2.3.4"
  }
 },
 "nbformat": 4,
 "nbformat_minor": 5
}
